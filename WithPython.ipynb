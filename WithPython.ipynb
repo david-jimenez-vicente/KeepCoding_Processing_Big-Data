{
 "cells": [
  {
   "cell_type": "markdown",
   "id": "fac6bcde-2738-4c70-9028-8b3503bd9337",
   "metadata": {},
   "source": [
    "# Solución 1: Ejercicio resuelto con Python"
   ]
  },
  {
   "cell_type": "markdown",
   "id": "0a35fd62-5b7d-4185-afa4-fd645755ecc6",
   "metadata": {},
   "source": [
    "**Nota:** Para que funcione correctamente este notebook, el notebook y los dos archivos de datos .csv han de estar en la misma carpeta, y ha de ser el actual Working Directory. Si no deseas cambiar el working directory o no deseas poner estos archivos en él, puedes cambiar el path en las dos celdas de importación de los datasets para reflejar el directorio donde has guardado los .csv"
   ]
  },
  {
   "cell_type": "markdown",
   "id": "675d090e-d3ac-4708-9e49-7202dfe94818",
   "metadata": {},
   "source": [
    "\n",
    "## Apartado 0  \n",
    "*Paso opcional en caso de que quieras comprobar y cambiar el working directory. Ten en cuenta que cuando reinicies el kernel, el WD definido aquí desaparecerá y volverá a ser el que está definido por defecto. Debes descomentar las líneas de código.*  \n",
    "*Si no deseas cambiar el WD, salta hasta el Apartado 1*"
   ]
  },
  {
   "cell_type": "code",
   "execution_count": 1,
   "id": "67d82ef6-622f-4878-ab9f-0b0cb5197c5b",
   "metadata": {},
   "outputs": [],
   "source": [
    "import os"
   ]
  },
  {
   "cell_type": "code",
   "execution_count": 2,
   "id": "38802a55-e686-4dd1-bf46-17fbabc84c3e",
   "metadata": {},
   "outputs": [
    {
     "data": {
      "text/plain": [
       "'/Users/dj/Documents'"
      ]
     },
     "execution_count": 2,
     "metadata": {},
     "output_type": "execute_result"
    }
   ],
   "source": [
    "os.getcwd()"
   ]
  },
  {
   "cell_type": "code",
   "execution_count": 3,
   "id": "e8d846e6-00b5-4192-a825-e13d958fd326",
   "metadata": {},
   "outputs": [],
   "source": [
    "# Aquí has de poner el path donde están los 3 archivos.\n",
    "# os.chdir(\"path_completo_del_nuevo_directorio_de_trabajo\")\n",
    "os.chdir(\"/Users/dj/Downloads/9 Processing Big Data/PROYECTO FINAL\")"
   ]
  },
  {
   "cell_type": "markdown",
   "id": "623ec84a-a2ed-4065-8f8d-073e1c0f561f",
   "metadata": {},
   "source": [
    "____"
   ]
  },
  {
   "cell_type": "markdown",
   "id": "a93e025c-c2f0-417d-9d16-6edf33ea7f5c",
   "metadata": {},
   "source": [
    "## Apartado 1: Importación de las librerías necesarias"
   ]
  },
  {
   "cell_type": "code",
   "execution_count": 4,
   "id": "28d3154d-d46e-4a28-b080-377f4ff90783",
   "metadata": {},
   "outputs": [],
   "source": [
    "# Importamos las librerías más comunes para el resto del Notebook\n",
    "import pandas as pd\n",
    "import numpy as np\n",
    "import matplotlib.pyplot as plt"
   ]
  },
  {
   "cell_type": "markdown",
   "id": "17640de4-e4fc-4c09-bad5-c56d0e5fd212",
   "metadata": {},
   "source": [
    "____"
   ]
  },
  {
   "cell_type": "markdown",
   "id": "d6b5f3e0-393c-4e69-a3c5-f6dabd075f3e",
   "metadata": {},
   "source": [
    "## Apartado 2: Importamos los datasets a dataframes"
   ]
  },
  {
   "cell_type": "code",
   "execution_count": 5,
   "id": "933a859c-cd71-469a-8a78-cc32e28735bf",
   "metadata": {},
   "outputs": [],
   "source": [
    "# Leemos los csv con Pandas\n",
    "# Recuerda que si no has cambiado el directorio de trabajo, has de cambiar estas rutas y poner las de los archivos\n",
    "file1 = pd.read_csv(\"world-happiness-report.csv\")\n",
    "file2 = pd.read_csv(\"world-happiness-report-2021.csv\")"
   ]
  },
  {
   "cell_type": "code",
   "execution_count": 6,
   "id": "9b2869aa-6879-4eac-954a-95012d65c1c9",
   "metadata": {},
   "outputs": [
    {
     "data": {
      "text/html": [
       "<div>\n",
       "<style scoped>\n",
       "    .dataframe tbody tr th:only-of-type {\n",
       "        vertical-align: middle;\n",
       "    }\n",
       "\n",
       "    .dataframe tbody tr th {\n",
       "        vertical-align: top;\n",
       "    }\n",
       "\n",
       "    .dataframe thead th {\n",
       "        text-align: right;\n",
       "    }\n",
       "</style>\n",
       "<table border=\"1\" class=\"dataframe\">\n",
       "  <thead>\n",
       "    <tr style=\"text-align: right;\">\n",
       "      <th></th>\n",
       "      <th>Country name</th>\n",
       "      <th>year</th>\n",
       "      <th>Life Ladder</th>\n",
       "      <th>Log GDP per capita</th>\n",
       "      <th>Social support</th>\n",
       "      <th>Healthy life expectancy at birth</th>\n",
       "      <th>Freedom to make life choices</th>\n",
       "      <th>Generosity</th>\n",
       "      <th>Perceptions of corruption</th>\n",
       "      <th>Positive affect</th>\n",
       "      <th>Negative affect</th>\n",
       "    </tr>\n",
       "  </thead>\n",
       "  <tbody>\n",
       "    <tr>\n",
       "      <th>0</th>\n",
       "      <td>Afghanistan</td>\n",
       "      <td>2008</td>\n",
       "      <td>3.724</td>\n",
       "      <td>7.370</td>\n",
       "      <td>0.451</td>\n",
       "      <td>50.80</td>\n",
       "      <td>0.718</td>\n",
       "      <td>0.168</td>\n",
       "      <td>0.882</td>\n",
       "      <td>0.518</td>\n",
       "      <td>0.258</td>\n",
       "    </tr>\n",
       "    <tr>\n",
       "      <th>1</th>\n",
       "      <td>Afghanistan</td>\n",
       "      <td>2009</td>\n",
       "      <td>4.402</td>\n",
       "      <td>7.540</td>\n",
       "      <td>0.552</td>\n",
       "      <td>51.20</td>\n",
       "      <td>0.679</td>\n",
       "      <td>0.190</td>\n",
       "      <td>0.850</td>\n",
       "      <td>0.584</td>\n",
       "      <td>0.237</td>\n",
       "    </tr>\n",
       "    <tr>\n",
       "      <th>2</th>\n",
       "      <td>Afghanistan</td>\n",
       "      <td>2010</td>\n",
       "      <td>4.758</td>\n",
       "      <td>7.647</td>\n",
       "      <td>0.539</td>\n",
       "      <td>51.60</td>\n",
       "      <td>0.600</td>\n",
       "      <td>0.121</td>\n",
       "      <td>0.707</td>\n",
       "      <td>0.618</td>\n",
       "      <td>0.275</td>\n",
       "    </tr>\n",
       "    <tr>\n",
       "      <th>3</th>\n",
       "      <td>Afghanistan</td>\n",
       "      <td>2011</td>\n",
       "      <td>3.832</td>\n",
       "      <td>7.620</td>\n",
       "      <td>0.521</td>\n",
       "      <td>51.92</td>\n",
       "      <td>0.496</td>\n",
       "      <td>0.162</td>\n",
       "      <td>0.731</td>\n",
       "      <td>0.611</td>\n",
       "      <td>0.267</td>\n",
       "    </tr>\n",
       "    <tr>\n",
       "      <th>4</th>\n",
       "      <td>Afghanistan</td>\n",
       "      <td>2012</td>\n",
       "      <td>3.783</td>\n",
       "      <td>7.705</td>\n",
       "      <td>0.521</td>\n",
       "      <td>52.24</td>\n",
       "      <td>0.531</td>\n",
       "      <td>0.236</td>\n",
       "      <td>0.776</td>\n",
       "      <td>0.710</td>\n",
       "      <td>0.268</td>\n",
       "    </tr>\n",
       "  </tbody>\n",
       "</table>\n",
       "</div>"
      ],
      "text/plain": [
       "  Country name  year  Life Ladder  Log GDP per capita  Social support  \\\n",
       "0  Afghanistan  2008        3.724               7.370           0.451   \n",
       "1  Afghanistan  2009        4.402               7.540           0.552   \n",
       "2  Afghanistan  2010        4.758               7.647           0.539   \n",
       "3  Afghanistan  2011        3.832               7.620           0.521   \n",
       "4  Afghanistan  2012        3.783               7.705           0.521   \n",
       "\n",
       "   Healthy life expectancy at birth  Freedom to make life choices  Generosity  \\\n",
       "0                             50.80                         0.718       0.168   \n",
       "1                             51.20                         0.679       0.190   \n",
       "2                             51.60                         0.600       0.121   \n",
       "3                             51.92                         0.496       0.162   \n",
       "4                             52.24                         0.531       0.236   \n",
       "\n",
       "   Perceptions of corruption  Positive affect  Negative affect  \n",
       "0                      0.882            0.518            0.258  \n",
       "1                      0.850            0.584            0.237  \n",
       "2                      0.707            0.618            0.275  \n",
       "3                      0.731            0.611            0.267  \n",
       "4                      0.776            0.710            0.268  "
      ]
     },
     "execution_count": 6,
     "metadata": {},
     "output_type": "execute_result"
    }
   ],
   "source": [
    "# Creamos unos dataframes con las importaciones\n",
    "df1 = pd.DataFrame(file1)\n",
    "df1.head()"
   ]
  },
  {
   "cell_type": "code",
   "execution_count": 7,
   "id": "66d58959-90f3-4e19-b13a-67573d7a828b",
   "metadata": {},
   "outputs": [
    {
     "data": {
      "text/html": [
       "<div>\n",
       "<style scoped>\n",
       "    .dataframe tbody tr th:only-of-type {\n",
       "        vertical-align: middle;\n",
       "    }\n",
       "\n",
       "    .dataframe tbody tr th {\n",
       "        vertical-align: top;\n",
       "    }\n",
       "\n",
       "    .dataframe thead th {\n",
       "        text-align: right;\n",
       "    }\n",
       "</style>\n",
       "<table border=\"1\" class=\"dataframe\">\n",
       "  <thead>\n",
       "    <tr style=\"text-align: right;\">\n",
       "      <th></th>\n",
       "      <th>Country name</th>\n",
       "      <th>Regional indicator</th>\n",
       "      <th>Ladder score</th>\n",
       "      <th>Standard error of ladder score</th>\n",
       "      <th>upperwhisker</th>\n",
       "      <th>lowerwhisker</th>\n",
       "      <th>Logged GDP per capita</th>\n",
       "      <th>Social support</th>\n",
       "      <th>Healthy life expectancy</th>\n",
       "      <th>Freedom to make life choices</th>\n",
       "      <th>Generosity</th>\n",
       "      <th>Perceptions of corruption</th>\n",
       "      <th>Ladder score in Dystopia</th>\n",
       "      <th>Explained by: Log GDP per capita</th>\n",
       "      <th>Explained by: Social support</th>\n",
       "      <th>Explained by: Healthy life expectancy</th>\n",
       "      <th>Explained by: Freedom to make life choices</th>\n",
       "      <th>Explained by: Generosity</th>\n",
       "      <th>Explained by: Perceptions of corruption</th>\n",
       "      <th>Dystopia + residual</th>\n",
       "    </tr>\n",
       "  </thead>\n",
       "  <tbody>\n",
       "    <tr>\n",
       "      <th>0</th>\n",
       "      <td>Finland</td>\n",
       "      <td>Western Europe</td>\n",
       "      <td>7.842</td>\n",
       "      <td>0.032</td>\n",
       "      <td>7.904</td>\n",
       "      <td>7.780</td>\n",
       "      <td>10.775</td>\n",
       "      <td>0.954</td>\n",
       "      <td>72.0</td>\n",
       "      <td>0.949</td>\n",
       "      <td>-0.098</td>\n",
       "      <td>0.186</td>\n",
       "      <td>2.43</td>\n",
       "      <td>1.446</td>\n",
       "      <td>1.106</td>\n",
       "      <td>0.741</td>\n",
       "      <td>0.691</td>\n",
       "      <td>0.124</td>\n",
       "      <td>0.481</td>\n",
       "      <td>3.253</td>\n",
       "    </tr>\n",
       "    <tr>\n",
       "      <th>1</th>\n",
       "      <td>Denmark</td>\n",
       "      <td>Western Europe</td>\n",
       "      <td>7.620</td>\n",
       "      <td>0.035</td>\n",
       "      <td>7.687</td>\n",
       "      <td>7.552</td>\n",
       "      <td>10.933</td>\n",
       "      <td>0.954</td>\n",
       "      <td>72.7</td>\n",
       "      <td>0.946</td>\n",
       "      <td>0.030</td>\n",
       "      <td>0.179</td>\n",
       "      <td>2.43</td>\n",
       "      <td>1.502</td>\n",
       "      <td>1.108</td>\n",
       "      <td>0.763</td>\n",
       "      <td>0.686</td>\n",
       "      <td>0.208</td>\n",
       "      <td>0.485</td>\n",
       "      <td>2.868</td>\n",
       "    </tr>\n",
       "    <tr>\n",
       "      <th>2</th>\n",
       "      <td>Switzerland</td>\n",
       "      <td>Western Europe</td>\n",
       "      <td>7.571</td>\n",
       "      <td>0.036</td>\n",
       "      <td>7.643</td>\n",
       "      <td>7.500</td>\n",
       "      <td>11.117</td>\n",
       "      <td>0.942</td>\n",
       "      <td>74.4</td>\n",
       "      <td>0.919</td>\n",
       "      <td>0.025</td>\n",
       "      <td>0.292</td>\n",
       "      <td>2.43</td>\n",
       "      <td>1.566</td>\n",
       "      <td>1.079</td>\n",
       "      <td>0.816</td>\n",
       "      <td>0.653</td>\n",
       "      <td>0.204</td>\n",
       "      <td>0.413</td>\n",
       "      <td>2.839</td>\n",
       "    </tr>\n",
       "    <tr>\n",
       "      <th>3</th>\n",
       "      <td>Iceland</td>\n",
       "      <td>Western Europe</td>\n",
       "      <td>7.554</td>\n",
       "      <td>0.059</td>\n",
       "      <td>7.670</td>\n",
       "      <td>7.438</td>\n",
       "      <td>10.878</td>\n",
       "      <td>0.983</td>\n",
       "      <td>73.0</td>\n",
       "      <td>0.955</td>\n",
       "      <td>0.160</td>\n",
       "      <td>0.673</td>\n",
       "      <td>2.43</td>\n",
       "      <td>1.482</td>\n",
       "      <td>1.172</td>\n",
       "      <td>0.772</td>\n",
       "      <td>0.698</td>\n",
       "      <td>0.293</td>\n",
       "      <td>0.170</td>\n",
       "      <td>2.967</td>\n",
       "    </tr>\n",
       "    <tr>\n",
       "      <th>4</th>\n",
       "      <td>Netherlands</td>\n",
       "      <td>Western Europe</td>\n",
       "      <td>7.464</td>\n",
       "      <td>0.027</td>\n",
       "      <td>7.518</td>\n",
       "      <td>7.410</td>\n",
       "      <td>10.932</td>\n",
       "      <td>0.942</td>\n",
       "      <td>72.4</td>\n",
       "      <td>0.913</td>\n",
       "      <td>0.175</td>\n",
       "      <td>0.338</td>\n",
       "      <td>2.43</td>\n",
       "      <td>1.501</td>\n",
       "      <td>1.079</td>\n",
       "      <td>0.753</td>\n",
       "      <td>0.647</td>\n",
       "      <td>0.302</td>\n",
       "      <td>0.384</td>\n",
       "      <td>2.798</td>\n",
       "    </tr>\n",
       "  </tbody>\n",
       "</table>\n",
       "</div>"
      ],
      "text/plain": [
       "  Country name Regional indicator  Ladder score  \\\n",
       "0      Finland     Western Europe         7.842   \n",
       "1      Denmark     Western Europe         7.620   \n",
       "2  Switzerland     Western Europe         7.571   \n",
       "3      Iceland     Western Europe         7.554   \n",
       "4  Netherlands     Western Europe         7.464   \n",
       "\n",
       "   Standard error of ladder score  upperwhisker  lowerwhisker  \\\n",
       "0                           0.032         7.904         7.780   \n",
       "1                           0.035         7.687         7.552   \n",
       "2                           0.036         7.643         7.500   \n",
       "3                           0.059         7.670         7.438   \n",
       "4                           0.027         7.518         7.410   \n",
       "\n",
       "   Logged GDP per capita  Social support  Healthy life expectancy  \\\n",
       "0                 10.775           0.954                     72.0   \n",
       "1                 10.933           0.954                     72.7   \n",
       "2                 11.117           0.942                     74.4   \n",
       "3                 10.878           0.983                     73.0   \n",
       "4                 10.932           0.942                     72.4   \n",
       "\n",
       "   Freedom to make life choices  Generosity  Perceptions of corruption  \\\n",
       "0                         0.949      -0.098                      0.186   \n",
       "1                         0.946       0.030                      0.179   \n",
       "2                         0.919       0.025                      0.292   \n",
       "3                         0.955       0.160                      0.673   \n",
       "4                         0.913       0.175                      0.338   \n",
       "\n",
       "   Ladder score in Dystopia  Explained by: Log GDP per capita  \\\n",
       "0                      2.43                             1.446   \n",
       "1                      2.43                             1.502   \n",
       "2                      2.43                             1.566   \n",
       "3                      2.43                             1.482   \n",
       "4                      2.43                             1.501   \n",
       "\n",
       "   Explained by: Social support  Explained by: Healthy life expectancy  \\\n",
       "0                         1.106                                  0.741   \n",
       "1                         1.108                                  0.763   \n",
       "2                         1.079                                  0.816   \n",
       "3                         1.172                                  0.772   \n",
       "4                         1.079                                  0.753   \n",
       "\n",
       "   Explained by: Freedom to make life choices  Explained by: Generosity  \\\n",
       "0                                       0.691                     0.124   \n",
       "1                                       0.686                     0.208   \n",
       "2                                       0.653                     0.204   \n",
       "3                                       0.698                     0.293   \n",
       "4                                       0.647                     0.302   \n",
       "\n",
       "   Explained by: Perceptions of corruption  Dystopia + residual  \n",
       "0                                    0.481                3.253  \n",
       "1                                    0.485                2.868  \n",
       "2                                    0.413                2.839  \n",
       "3                                    0.170                2.967  \n",
       "4                                    0.384                2.798  "
      ]
     },
     "execution_count": 7,
     "metadata": {},
     "output_type": "execute_result"
    }
   ],
   "source": [
    "df2 = pd.DataFrame(file2)\n",
    "df2.head()"
   ]
  },
  {
   "cell_type": "markdown",
   "id": "c840ef35-bc54-44d5-8871-04a94fffc830",
   "metadata": {},
   "source": [
    "<br>"
   ]
  },
  {
   "cell_type": "markdown",
   "id": "9c923911-7952-4b4a-a568-db48d588a54d",
   "metadata": {},
   "source": [
    "#### Vamos a hacer un filtrado de ambos dataframes para quedarnos con las columnas que nos interesan para responder a las preguntas planteadas."
   ]
  },
  {
   "cell_type": "code",
   "execution_count": 8,
   "id": "a823527d-b312-4daa-840d-807915299786",
   "metadata": {},
   "outputs": [
    {
     "data": {
      "text/plain": [
       "0    2021\n",
       "1    2021\n",
       "2    2021\n",
       "3    2021\n",
       "4    2021\n",
       "Name: year, dtype: int64"
      ]
     },
     "execution_count": 8,
     "metadata": {},
     "output_type": "execute_result"
    }
   ],
   "source": [
    "# Incluímos la columna \"year\" en el dataframe del 2021\n",
    "df2[\"year\"] = 2021\n",
    "# Comprobamos que todos los registros del año son iguales a 2021\n",
    "df2.year.head()"
   ]
  },
  {
   "cell_type": "code",
   "execution_count": 9,
   "id": "e53a6a3c-cb73-46d0-9cee-e097fc215efd",
   "metadata": {},
   "outputs": [
    {
     "data": {
      "text/html": [
       "<div>\n",
       "<style scoped>\n",
       "    .dataframe tbody tr th:only-of-type {\n",
       "        vertical-align: middle;\n",
       "    }\n",
       "\n",
       "    .dataframe tbody tr th {\n",
       "        vertical-align: top;\n",
       "    }\n",
       "\n",
       "    .dataframe thead th {\n",
       "        text-align: right;\n",
       "    }\n",
       "</style>\n",
       "<table border=\"1\" class=\"dataframe\">\n",
       "  <thead>\n",
       "    <tr style=\"text-align: right;\">\n",
       "      <th></th>\n",
       "      <th>Country</th>\n",
       "      <th>Year</th>\n",
       "      <th>Ladder</th>\n",
       "      <th>GDP</th>\n",
       "      <th>Life expectancy</th>\n",
       "    </tr>\n",
       "  </thead>\n",
       "  <tbody>\n",
       "    <tr>\n",
       "      <th>0</th>\n",
       "      <td>Afghanistan</td>\n",
       "      <td>2008</td>\n",
       "      <td>3.724</td>\n",
       "      <td>7.370</td>\n",
       "      <td>50.80</td>\n",
       "    </tr>\n",
       "    <tr>\n",
       "      <th>1</th>\n",
       "      <td>Afghanistan</td>\n",
       "      <td>2009</td>\n",
       "      <td>4.402</td>\n",
       "      <td>7.540</td>\n",
       "      <td>51.20</td>\n",
       "    </tr>\n",
       "    <tr>\n",
       "      <th>2</th>\n",
       "      <td>Afghanistan</td>\n",
       "      <td>2010</td>\n",
       "      <td>4.758</td>\n",
       "      <td>7.647</td>\n",
       "      <td>51.60</td>\n",
       "    </tr>\n",
       "    <tr>\n",
       "      <th>3</th>\n",
       "      <td>Afghanistan</td>\n",
       "      <td>2011</td>\n",
       "      <td>3.832</td>\n",
       "      <td>7.620</td>\n",
       "      <td>51.92</td>\n",
       "    </tr>\n",
       "    <tr>\n",
       "      <th>4</th>\n",
       "      <td>Afghanistan</td>\n",
       "      <td>2012</td>\n",
       "      <td>3.783</td>\n",
       "      <td>7.705</td>\n",
       "      <td>52.24</td>\n",
       "    </tr>\n",
       "  </tbody>\n",
       "</table>\n",
       "</div>"
      ],
      "text/plain": [
       "       Country  Year  Ladder    GDP  Life expectancy\n",
       "0  Afghanistan  2008   3.724  7.370            50.80\n",
       "1  Afghanistan  2009   4.402  7.540            51.20\n",
       "2  Afghanistan  2010   4.758  7.647            51.60\n",
       "3  Afghanistan  2011   3.832  7.620            51.92\n",
       "4  Afghanistan  2012   3.783  7.705            52.24"
      ]
     },
     "execution_count": 9,
     "metadata": {},
     "output_type": "execute_result"
    }
   ],
   "source": [
    "# Para el dataframe con todos los años\n",
    "f_df1 = df1[[\"Country name\", \"year\", \"Life Ladder\", \"Log GDP per capita\", \"Healthy life expectancy at birth\"]]\n",
    "# Renombramos las columnas por comodidad\n",
    "f_df1.columns = [\"Country\", \"Year\", \"Ladder\", \"GDP\", \"Life expectancy\"]\n",
    "f_df1.head()"
   ]
  },
  {
   "cell_type": "code",
   "execution_count": 10,
   "id": "c13a540b-27f9-4948-b689-98b87d358673",
   "metadata": {},
   "outputs": [
    {
     "data": {
      "text/html": [
       "<div>\n",
       "<style scoped>\n",
       "    .dataframe tbody tr th:only-of-type {\n",
       "        vertical-align: middle;\n",
       "    }\n",
       "\n",
       "    .dataframe tbody tr th {\n",
       "        vertical-align: top;\n",
       "    }\n",
       "\n",
       "    .dataframe thead th {\n",
       "        text-align: right;\n",
       "    }\n",
       "</style>\n",
       "<table border=\"1\" class=\"dataframe\">\n",
       "  <thead>\n",
       "    <tr style=\"text-align: right;\">\n",
       "      <th></th>\n",
       "      <th>Country</th>\n",
       "      <th>Year</th>\n",
       "      <th>Ladder</th>\n",
       "      <th>GDP</th>\n",
       "      <th>Life expectancy</th>\n",
       "    </tr>\n",
       "  </thead>\n",
       "  <tbody>\n",
       "    <tr>\n",
       "      <th>0</th>\n",
       "      <td>Finland</td>\n",
       "      <td>2021</td>\n",
       "      <td>7.842</td>\n",
       "      <td>10.775</td>\n",
       "      <td>72.0</td>\n",
       "    </tr>\n",
       "    <tr>\n",
       "      <th>1</th>\n",
       "      <td>Denmark</td>\n",
       "      <td>2021</td>\n",
       "      <td>7.620</td>\n",
       "      <td>10.933</td>\n",
       "      <td>72.7</td>\n",
       "    </tr>\n",
       "    <tr>\n",
       "      <th>2</th>\n",
       "      <td>Switzerland</td>\n",
       "      <td>2021</td>\n",
       "      <td>7.571</td>\n",
       "      <td>11.117</td>\n",
       "      <td>74.4</td>\n",
       "    </tr>\n",
       "    <tr>\n",
       "      <th>3</th>\n",
       "      <td>Iceland</td>\n",
       "      <td>2021</td>\n",
       "      <td>7.554</td>\n",
       "      <td>10.878</td>\n",
       "      <td>73.0</td>\n",
       "    </tr>\n",
       "    <tr>\n",
       "      <th>4</th>\n",
       "      <td>Netherlands</td>\n",
       "      <td>2021</td>\n",
       "      <td>7.464</td>\n",
       "      <td>10.932</td>\n",
       "      <td>72.4</td>\n",
       "    </tr>\n",
       "  </tbody>\n",
       "</table>\n",
       "</div>"
      ],
      "text/plain": [
       "       Country  Year  Ladder     GDP  Life expectancy\n",
       "0      Finland  2021   7.842  10.775             72.0\n",
       "1      Denmark  2021   7.620  10.933             72.7\n",
       "2  Switzerland  2021   7.571  11.117             74.4\n",
       "3      Iceland  2021   7.554  10.878             73.0\n",
       "4  Netherlands  2021   7.464  10.932             72.4"
      ]
     },
     "execution_count": 10,
     "metadata": {},
     "output_type": "execute_result"
    }
   ],
   "source": [
    "# Ahora para el del 2021\n",
    "f_df2 = df2[[\"Country name\", \"year\", \"Ladder score\", \"Logged GDP per capita\", \"Healthy life expectancy\"]]\n",
    "# Renombramos las columnas por comodidad\n",
    "f_df2.columns = [\"Country\", \"Year\", \"Ladder\", \"GDP\", \"Life expectancy\"]\n",
    "f_df2.head()"
   ]
  },
  {
   "cell_type": "markdown",
   "id": "2ddb2c6b-3274-4cf3-a9f8-c3b47be67984",
   "metadata": {},
   "source": [
    "#### Ahora los dos dataframes tienen el mismo formato. Vamos a concatenarlos para tener un sólo dataframe con todos los datos."
   ]
  },
  {
   "cell_type": "code",
   "execution_count": 11,
   "id": "ad624368-1130-4f82-a57d-3bf96c49ade0",
   "metadata": {},
   "outputs": [
    {
     "data": {
      "text/html": [
       "<div>\n",
       "<style scoped>\n",
       "    .dataframe tbody tr th:only-of-type {\n",
       "        vertical-align: middle;\n",
       "    }\n",
       "\n",
       "    .dataframe tbody tr th {\n",
       "        vertical-align: top;\n",
       "    }\n",
       "\n",
       "    .dataframe thead th {\n",
       "        text-align: right;\n",
       "    }\n",
       "</style>\n",
       "<table border=\"1\" class=\"dataframe\">\n",
       "  <thead>\n",
       "    <tr style=\"text-align: right;\">\n",
       "      <th></th>\n",
       "      <th>Country</th>\n",
       "      <th>Year</th>\n",
       "      <th>Ladder</th>\n",
       "      <th>GDP</th>\n",
       "      <th>Life expectancy</th>\n",
       "    </tr>\n",
       "  </thead>\n",
       "  <tbody>\n",
       "    <tr>\n",
       "      <th>0</th>\n",
       "      <td>Afghanistan</td>\n",
       "      <td>2008</td>\n",
       "      <td>3.724</td>\n",
       "      <td>7.370</td>\n",
       "      <td>50.800</td>\n",
       "    </tr>\n",
       "    <tr>\n",
       "      <th>1</th>\n",
       "      <td>Afghanistan</td>\n",
       "      <td>2009</td>\n",
       "      <td>4.402</td>\n",
       "      <td>7.540</td>\n",
       "      <td>51.200</td>\n",
       "    </tr>\n",
       "    <tr>\n",
       "      <th>2</th>\n",
       "      <td>Afghanistan</td>\n",
       "      <td>2010</td>\n",
       "      <td>4.758</td>\n",
       "      <td>7.647</td>\n",
       "      <td>51.600</td>\n",
       "    </tr>\n",
       "    <tr>\n",
       "      <th>3</th>\n",
       "      <td>Afghanistan</td>\n",
       "      <td>2011</td>\n",
       "      <td>3.832</td>\n",
       "      <td>7.620</td>\n",
       "      <td>51.920</td>\n",
       "    </tr>\n",
       "    <tr>\n",
       "      <th>4</th>\n",
       "      <td>Afghanistan</td>\n",
       "      <td>2012</td>\n",
       "      <td>3.783</td>\n",
       "      <td>7.705</td>\n",
       "      <td>52.240</td>\n",
       "    </tr>\n",
       "    <tr>\n",
       "      <th>...</th>\n",
       "      <td>...</td>\n",
       "      <td>...</td>\n",
       "      <td>...</td>\n",
       "      <td>...</td>\n",
       "      <td>...</td>\n",
       "    </tr>\n",
       "    <tr>\n",
       "      <th>2093</th>\n",
       "      <td>Zimbabwe</td>\n",
       "      <td>2017</td>\n",
       "      <td>3.638</td>\n",
       "      <td>8.016</td>\n",
       "      <td>55.000</td>\n",
       "    </tr>\n",
       "    <tr>\n",
       "      <th>2094</th>\n",
       "      <td>Zimbabwe</td>\n",
       "      <td>2018</td>\n",
       "      <td>3.616</td>\n",
       "      <td>8.049</td>\n",
       "      <td>55.600</td>\n",
       "    </tr>\n",
       "    <tr>\n",
       "      <th>2095</th>\n",
       "      <td>Zimbabwe</td>\n",
       "      <td>2019</td>\n",
       "      <td>2.694</td>\n",
       "      <td>7.950</td>\n",
       "      <td>56.200</td>\n",
       "    </tr>\n",
       "    <tr>\n",
       "      <th>2096</th>\n",
       "      <td>Zimbabwe</td>\n",
       "      <td>2020</td>\n",
       "      <td>3.160</td>\n",
       "      <td>7.829</td>\n",
       "      <td>56.800</td>\n",
       "    </tr>\n",
       "    <tr>\n",
       "      <th>2097</th>\n",
       "      <td>Zimbabwe</td>\n",
       "      <td>2021</td>\n",
       "      <td>3.145</td>\n",
       "      <td>7.943</td>\n",
       "      <td>56.201</td>\n",
       "    </tr>\n",
       "  </tbody>\n",
       "</table>\n",
       "<p>2098 rows × 5 columns</p>\n",
       "</div>"
      ],
      "text/plain": [
       "          Country  Year  Ladder    GDP  Life expectancy\n",
       "0     Afghanistan  2008   3.724  7.370           50.800\n",
       "1     Afghanistan  2009   4.402  7.540           51.200\n",
       "2     Afghanistan  2010   4.758  7.647           51.600\n",
       "3     Afghanistan  2011   3.832  7.620           51.920\n",
       "4     Afghanistan  2012   3.783  7.705           52.240\n",
       "...           ...   ...     ...    ...              ...\n",
       "2093     Zimbabwe  2017   3.638  8.016           55.000\n",
       "2094     Zimbabwe  2018   3.616  8.049           55.600\n",
       "2095     Zimbabwe  2019   2.694  7.950           56.200\n",
       "2096     Zimbabwe  2020   3.160  7.829           56.800\n",
       "2097     Zimbabwe  2021   3.145  7.943           56.201\n",
       "\n",
       "[2098 rows x 5 columns]"
      ]
     },
     "execution_count": 11,
     "metadata": {},
     "output_type": "execute_result"
    }
   ],
   "source": [
    "df_maestro = pd.concat([f_df1, f_df2]).sort_values(by=[\"Country\",\"Year\"]).reset_index(drop=True)\n",
    "df_maestro"
   ]
  },
  {
   "cell_type": "markdown",
   "id": "4328794b-9519-48ad-8054-ce9c44185cc4",
   "metadata": {},
   "source": [
    "#### Hacemos una inspección de los datos resultantes"
   ]
  },
  {
   "cell_type": "code",
   "execution_count": 12,
   "id": "4b6a5452-5ba4-411e-8a0b-85806850aa6a",
   "metadata": {},
   "outputs": [
    {
     "name": "stdout",
     "output_type": "stream",
     "text": [
      "<class 'pandas.core.frame.DataFrame'>\n",
      "RangeIndex: 2098 entries, 0 to 2097\n",
      "Data columns (total 5 columns):\n",
      " #   Column           Non-Null Count  Dtype  \n",
      "---  ------           --------------  -----  \n",
      " 0   Country          2098 non-null   object \n",
      " 1   Year             2098 non-null   int64  \n",
      " 2   Ladder           2098 non-null   float64\n",
      " 3   GDP              2062 non-null   float64\n",
      " 4   Life expectancy  2043 non-null   float64\n",
      "dtypes: float64(3), int64(1), object(1)\n",
      "memory usage: 82.1+ KB\n"
     ]
    }
   ],
   "source": [
    "df_maestro.info()"
   ]
  },
  {
   "cell_type": "markdown",
   "id": "d43d7539-09af-44e1-a116-7cfa481c46e0",
   "metadata": {},
   "source": [
    "**Observamos que varios países tienen valores nulos en GDP y Life expectancy, por lo cual los cálculos de agregación mundial no reflejarán la realidad**"
   ]
  },
  {
   "cell_type": "markdown",
   "id": "9940c9ae-0063-4038-96c2-7abe0a5014a9",
   "metadata": {},
   "source": [
    "____"
   ]
  },
  {
   "cell_type": "markdown",
   "id": "713a547e-7bfd-4e9e-b27c-634f36e030db",
   "metadata": {},
   "source": [
    "## Apartado 3: Empezamos a responder las preguntas del enunciado"
   ]
  },
  {
   "cell_type": "markdown",
   "id": "cecba661-79ef-4026-b101-61b6b1f1294c",
   "metadata": {},
   "source": [
    "### *Pregunta 1: País más feliz del 2021*"
   ]
  },
  {
   "cell_type": "code",
   "execution_count": 13,
   "id": "ab93790d-63c1-4b41-964b-e8398233ef42",
   "metadata": {},
   "outputs": [
    {
     "data": {
      "text/html": [
       "<div>\n",
       "<style scoped>\n",
       "    .dataframe tbody tr th:only-of-type {\n",
       "        vertical-align: middle;\n",
       "    }\n",
       "\n",
       "    .dataframe tbody tr th {\n",
       "        vertical-align: top;\n",
       "    }\n",
       "\n",
       "    .dataframe thead th {\n",
       "        text-align: right;\n",
       "    }\n",
       "</style>\n",
       "<table border=\"1\" class=\"dataframe\">\n",
       "  <thead>\n",
       "    <tr style=\"text-align: right;\">\n",
       "      <th></th>\n",
       "      <th>Country</th>\n",
       "      <th>Year</th>\n",
       "      <th>Ladder</th>\n",
       "      <th>GDP</th>\n",
       "      <th>Life expectancy</th>\n",
       "    </tr>\n",
       "  </thead>\n",
       "  <tbody>\n",
       "    <tr>\n",
       "      <th>604</th>\n",
       "      <td>Finland</td>\n",
       "      <td>2021</td>\n",
       "      <td>7.842</td>\n",
       "      <td>10.775</td>\n",
       "      <td>72.0</td>\n",
       "    </tr>\n",
       "  </tbody>\n",
       "</table>\n",
       "</div>"
      ],
      "text/plain": [
       "     Country  Year  Ladder     GDP  Life expectancy\n",
       "604  Finland  2021   7.842  10.775             72.0"
      ]
     },
     "execution_count": 13,
     "metadata": {},
     "output_type": "execute_result"
    }
   ],
   "source": [
    "# Seleccionamos de los registros del año 2021, los ordenamos de mayor a menor y seleccionamos sólo el primero \n",
    "df_maestro[df_maestro.Year==2021].sort_values(by=\"Ladder\", ascending=False).head(1)"
   ]
  },
  {
   "cell_type": "markdown",
   "id": "3ce5add1-7b8b-474d-a903-f7451ce07d9d",
   "metadata": {},
   "source": [
    "#### Respuesta: El país más feliz del 2021 fue Finlandia\n",
    "<br>\n",
    "<br>"
   ]
  },
  {
   "cell_type": "markdown",
   "id": "380fd52a-29ad-4dce-a6ed-0d3c4539ab04",
   "metadata": {},
   "source": [
    "### *Pregunta 2: País más feliz por continente del 2021*"
   ]
  },
  {
   "cell_type": "markdown",
   "id": "9bc8837a-bd1d-4c7f-8045-b284e95586d1",
   "metadata": {},
   "source": [
    "El primer dataframe con el histórico de varios años no tiene una columna para las zonas geográficas o continentes.  \n",
    "El dataframe del 2021 sí tiene una columna para zonas geográficas. Observamos que hay 12 zonas geográficas definidas, que no son en sí continentes, pero las tomaremos para definir la respuesta al enunciado. Sólo están definidas en el dataframe del año 2021, por lo que hay que extraerlas y añadirlas al dataframe total."
   ]
  },
  {
   "cell_type": "code",
   "execution_count": 21,
   "id": "138c1060-47c7-4396-990a-ccd4982dd3e4",
   "metadata": {},
   "outputs": [],
   "source": [
    "# Creo un diccionario \n",
    "diccionario = {}\n",
    "# Agrupo por continente escogiendo sólo las dos columnas que me interesan para ahorrar memoria\n",
    "grupos = df2[[\"Regional indicator\", \"Country name\"]].groupby(\"Regional indicator\")\n",
    "# Iteramos por las zonas para sacar los paises de cada una\n",
    "for conti, linea in grupos:\n",
    "    paises = linea[\"Country name\"].unique()\n",
    "    diccionario[conti] = paises.tolist()"
   ]
  },
  {
   "cell_type": "code",
   "execution_count": 16,
   "id": "2e425df4-58d2-4e15-b085-f557f6477947",
   "metadata": {},
   "outputs": [
    {
     "data": {
      "text/html": [
       "<div>\n",
       "<style scoped>\n",
       "    .dataframe tbody tr th:only-of-type {\n",
       "        vertical-align: middle;\n",
       "    }\n",
       "\n",
       "    .dataframe tbody tr th {\n",
       "        vertical-align: top;\n",
       "    }\n",
       "\n",
       "    .dataframe thead th {\n",
       "        text-align: right;\n",
       "    }\n",
       "</style>\n",
       "<table border=\"1\" class=\"dataframe\">\n",
       "  <thead>\n",
       "    <tr style=\"text-align: right;\">\n",
       "      <th></th>\n",
       "      <th>Country</th>\n",
       "      <th>Year</th>\n",
       "      <th>Ladder</th>\n",
       "      <th>GDP</th>\n",
       "      <th>Life expectancy</th>\n",
       "      <th>Continental zone</th>\n",
       "    </tr>\n",
       "  </thead>\n",
       "  <tbody>\n",
       "    <tr>\n",
       "      <th>0</th>\n",
       "      <td>Afghanistan</td>\n",
       "      <td>2008</td>\n",
       "      <td>3.724</td>\n",
       "      <td>7.370</td>\n",
       "      <td>50.800</td>\n",
       "      <td>South Asia</td>\n",
       "    </tr>\n",
       "    <tr>\n",
       "      <th>1</th>\n",
       "      <td>Afghanistan</td>\n",
       "      <td>2009</td>\n",
       "      <td>4.402</td>\n",
       "      <td>7.540</td>\n",
       "      <td>51.200</td>\n",
       "      <td>South Asia</td>\n",
       "    </tr>\n",
       "    <tr>\n",
       "      <th>2</th>\n",
       "      <td>Afghanistan</td>\n",
       "      <td>2010</td>\n",
       "      <td>4.758</td>\n",
       "      <td>7.647</td>\n",
       "      <td>51.600</td>\n",
       "      <td>South Asia</td>\n",
       "    </tr>\n",
       "    <tr>\n",
       "      <th>3</th>\n",
       "      <td>Afghanistan</td>\n",
       "      <td>2011</td>\n",
       "      <td>3.832</td>\n",
       "      <td>7.620</td>\n",
       "      <td>51.920</td>\n",
       "      <td>South Asia</td>\n",
       "    </tr>\n",
       "    <tr>\n",
       "      <th>4</th>\n",
       "      <td>Afghanistan</td>\n",
       "      <td>2012</td>\n",
       "      <td>3.783</td>\n",
       "      <td>7.705</td>\n",
       "      <td>52.240</td>\n",
       "      <td>South Asia</td>\n",
       "    </tr>\n",
       "    <tr>\n",
       "      <th>...</th>\n",
       "      <td>...</td>\n",
       "      <td>...</td>\n",
       "      <td>...</td>\n",
       "      <td>...</td>\n",
       "      <td>...</td>\n",
       "      <td>...</td>\n",
       "    </tr>\n",
       "    <tr>\n",
       "      <th>2093</th>\n",
       "      <td>Zimbabwe</td>\n",
       "      <td>2017</td>\n",
       "      <td>3.638</td>\n",
       "      <td>8.016</td>\n",
       "      <td>55.000</td>\n",
       "      <td>Sub-Saharan Africa</td>\n",
       "    </tr>\n",
       "    <tr>\n",
       "      <th>2094</th>\n",
       "      <td>Zimbabwe</td>\n",
       "      <td>2018</td>\n",
       "      <td>3.616</td>\n",
       "      <td>8.049</td>\n",
       "      <td>55.600</td>\n",
       "      <td>Sub-Saharan Africa</td>\n",
       "    </tr>\n",
       "    <tr>\n",
       "      <th>2095</th>\n",
       "      <td>Zimbabwe</td>\n",
       "      <td>2019</td>\n",
       "      <td>2.694</td>\n",
       "      <td>7.950</td>\n",
       "      <td>56.200</td>\n",
       "      <td>Sub-Saharan Africa</td>\n",
       "    </tr>\n",
       "    <tr>\n",
       "      <th>2096</th>\n",
       "      <td>Zimbabwe</td>\n",
       "      <td>2020</td>\n",
       "      <td>3.160</td>\n",
       "      <td>7.829</td>\n",
       "      <td>56.800</td>\n",
       "      <td>Sub-Saharan Africa</td>\n",
       "    </tr>\n",
       "    <tr>\n",
       "      <th>2097</th>\n",
       "      <td>Zimbabwe</td>\n",
       "      <td>2021</td>\n",
       "      <td>3.145</td>\n",
       "      <td>7.943</td>\n",
       "      <td>56.201</td>\n",
       "      <td>Sub-Saharan Africa</td>\n",
       "    </tr>\n",
       "  </tbody>\n",
       "</table>\n",
       "<p>2098 rows × 6 columns</p>\n",
       "</div>"
      ],
      "text/plain": [
       "          Country  Year  Ladder    GDP  Life expectancy    Continental zone\n",
       "0     Afghanistan  2008   3.724  7.370           50.800          South Asia\n",
       "1     Afghanistan  2009   4.402  7.540           51.200          South Asia\n",
       "2     Afghanistan  2010   4.758  7.647           51.600          South Asia\n",
       "3     Afghanistan  2011   3.832  7.620           51.920          South Asia\n",
       "4     Afghanistan  2012   3.783  7.705           52.240          South Asia\n",
       "...           ...   ...     ...    ...              ...                 ...\n",
       "2093     Zimbabwe  2017   3.638  8.016           55.000  Sub-Saharan Africa\n",
       "2094     Zimbabwe  2018   3.616  8.049           55.600  Sub-Saharan Africa\n",
       "2095     Zimbabwe  2019   2.694  7.950           56.200  Sub-Saharan Africa\n",
       "2096     Zimbabwe  2020   3.160  7.829           56.800  Sub-Saharan Africa\n",
       "2097     Zimbabwe  2021   3.145  7.943           56.201  Sub-Saharan Africa\n",
       "\n",
       "[2098 rows x 6 columns]"
      ]
     },
     "execution_count": 16,
     "metadata": {},
     "output_type": "execute_result"
    }
   ],
   "source": [
    "# Ahora usaré el método .apply() de pandas para aplicar una función a toda una columna del dataframe para crear la columna de los continentes.\n",
    "# La función que aplicaré la voy a definir:\n",
    "def crear_conti(pais):\n",
    "    for c, p in diccionario.items():\n",
    "        if pais in p:\n",
    "            return c\n",
    "\n",
    "# Ahora aplicamos  la función con apply()\n",
    "df_maestro[\"Continental zone\"] = df_maestro.Country.apply(crear_conti)\n",
    "df_maestro"
   ]
  },
  {
   "cell_type": "code",
   "execution_count": 17,
   "id": "13b4c005-8b9f-44f4-b008-1744447b4c1c",
   "metadata": {},
   "outputs": [],
   "source": [
    "# Reduciremos los datos al 2021, los agruparemos por zonas continentales y buscaremos los índices con mayor ladder\n",
    "indexes = df_maestro.query(\"Year == 2021\").groupby(\"Continental zone\").Ladder.idxmax()\n",
    "# Ahora recuperamos esos índices del dataframe, nos quedamos sólo las columnas descriptivas y reindexamos de mayor a menor Ladder\n",
    "winners = df_maestro.iloc[indexes][[\"Continental zone\", \"Country\", \"Ladder\"]].sort_values(by=\"Ladder\", ascending=False).reset_index(drop=True)"
   ]
  },
  {
   "cell_type": "markdown",
   "id": "ba1e71c8-d31f-4341-8fda-874a7ae18948",
   "metadata": {},
   "source": [
    "#### Respuesta: Países más felices de 2021 por zona continental:"
   ]
  },
  {
   "cell_type": "code",
   "execution_count": 18,
   "id": "97ba0997-e4f4-4730-8765-79689c51d969",
   "metadata": {},
   "outputs": [
    {
     "data": {
      "text/html": [
       "<div>\n",
       "<style scoped>\n",
       "    .dataframe tbody tr th:only-of-type {\n",
       "        vertical-align: middle;\n",
       "    }\n",
       "\n",
       "    .dataframe tbody tr th {\n",
       "        vertical-align: top;\n",
       "    }\n",
       "\n",
       "    .dataframe thead th {\n",
       "        text-align: right;\n",
       "    }\n",
       "</style>\n",
       "<table border=\"1\" class=\"dataframe\">\n",
       "  <thead>\n",
       "    <tr style=\"text-align: right;\">\n",
       "      <th></th>\n",
       "      <th>Continental zone</th>\n",
       "      <th>Country</th>\n",
       "      <th>Ladder</th>\n",
       "    </tr>\n",
       "  </thead>\n",
       "  <tbody>\n",
       "    <tr>\n",
       "      <th>0</th>\n",
       "      <td>Western Europe</td>\n",
       "      <td>Finland</td>\n",
       "      <td>7.842</td>\n",
       "    </tr>\n",
       "    <tr>\n",
       "      <th>1</th>\n",
       "      <td>North America and ANZ</td>\n",
       "      <td>New Zealand</td>\n",
       "      <td>7.277</td>\n",
       "    </tr>\n",
       "    <tr>\n",
       "      <th>2</th>\n",
       "      <td>Middle East and North Africa</td>\n",
       "      <td>Israel</td>\n",
       "      <td>7.157</td>\n",
       "    </tr>\n",
       "    <tr>\n",
       "      <th>3</th>\n",
       "      <td>Latin America and Caribbean</td>\n",
       "      <td>Costa Rica</td>\n",
       "      <td>7.069</td>\n",
       "    </tr>\n",
       "    <tr>\n",
       "      <th>4</th>\n",
       "      <td>Central and Eastern Europe</td>\n",
       "      <td>Czech Republic</td>\n",
       "      <td>6.965</td>\n",
       "    </tr>\n",
       "    <tr>\n",
       "      <th>5</th>\n",
       "      <td>East Asia</td>\n",
       "      <td>Taiwan Province of China</td>\n",
       "      <td>6.584</td>\n",
       "    </tr>\n",
       "    <tr>\n",
       "      <th>6</th>\n",
       "      <td>Southeast Asia</td>\n",
       "      <td>Singapore</td>\n",
       "      <td>6.377</td>\n",
       "    </tr>\n",
       "    <tr>\n",
       "      <th>7</th>\n",
       "      <td>Commonwealth of Independent States</td>\n",
       "      <td>Uzbekistan</td>\n",
       "      <td>6.179</td>\n",
       "    </tr>\n",
       "    <tr>\n",
       "      <th>8</th>\n",
       "      <td>Sub-Saharan Africa</td>\n",
       "      <td>Mauritius</td>\n",
       "      <td>6.049</td>\n",
       "    </tr>\n",
       "    <tr>\n",
       "      <th>9</th>\n",
       "      <td>South Asia</td>\n",
       "      <td>Nepal</td>\n",
       "      <td>5.269</td>\n",
       "    </tr>\n",
       "  </tbody>\n",
       "</table>\n",
       "</div>"
      ],
      "text/plain": [
       "                     Continental zone                   Country  Ladder\n",
       "0                      Western Europe                   Finland   7.842\n",
       "1               North America and ANZ               New Zealand   7.277\n",
       "2        Middle East and North Africa                    Israel   7.157\n",
       "3         Latin America and Caribbean                Costa Rica   7.069\n",
       "4          Central and Eastern Europe            Czech Republic   6.965\n",
       "5                           East Asia  Taiwan Province of China   6.584\n",
       "6                      Southeast Asia                 Singapore   6.377\n",
       "7  Commonwealth of Independent States                Uzbekistan   6.179\n",
       "8                  Sub-Saharan Africa                 Mauritius   6.049\n",
       "9                          South Asia                     Nepal   5.269"
      ]
     },
     "execution_count": 18,
     "metadata": {},
     "output_type": "execute_result"
    }
   ],
   "source": [
    "winners"
   ]
  },
  {
   "cell_type": "markdown",
   "id": "ce022cc9-f9fd-470e-8aa6-d31a20e5b4e7",
   "metadata": {},
   "source": [
    "<br>\n",
    "<br>"
   ]
  },
  {
   "cell_type": "markdown",
   "id": "059e6f38-5ec4-4bbc-ac6e-377a70134552",
   "metadata": {},
   "source": [
    "### *Pregunta 3: País que más veces ha sido el más feliz en la totalidad de años*"
   ]
  },
  {
   "cell_type": "code",
   "execution_count": 19,
   "id": "05c40926-3efe-4efa-a616-b3ed21272fbd",
   "metadata": {},
   "outputs": [
    {
     "data": {
      "text/plain": [
       "Year\n",
       "2005     482\n",
       "2006     591\n",
       "2007     483\n",
       "2008     484\n",
       "2009     485\n",
       "2010     486\n",
       "2011     487\n",
       "2012    1782\n",
       "2013     322\n",
       "2014     490\n",
       "2015    1407\n",
       "2016     599\n",
       "2017     600\n",
       "2018     601\n",
       "2019     602\n",
       "2020     603\n",
       "2021     604\n",
       "Name: Ladder, dtype: int64"
      ]
     },
     "execution_count": 19,
     "metadata": {},
     "output_type": "execute_result"
    }
   ],
   "source": [
    "# Agrupamos por año, cogemos los más felices, hacemos un ranking e identificamos sus índices\n",
    "anual_winners = df_maestro.groupby(\"Year\").Ladder.idxmax()\n",
    "anual_winners"
   ]
  },
  {
   "cell_type": "code",
   "execution_count": 375,
   "id": "250a70e9-b517-44a8-9427-846d04c3b3d9",
   "metadata": {},
   "outputs": [
    {
     "data": {
      "text/plain": [
       "Country\n",
       "Denmark        7\n",
       "Finland        7\n",
       "Switzerland    1\n",
       "Canada         1\n",
       "Norway         1\n",
       "Name: count, dtype: int64"
      ]
     },
     "execution_count": 375,
     "metadata": {},
     "output_type": "execute_result"
    }
   ],
   "source": [
    "# Localizamos los índices de los ganadores anuales en el dataframe maestro, y contamos cada aparición\n",
    "absolute_winner = df_maestro.iloc[anual_winners].Country.value_counts()\n",
    "absolute_winner"
   ]
  },
  {
   "cell_type": "markdown",
   "id": "d6ead2cb-9b26-404e-b534-98c6e67495cd",
   "metadata": {},
   "source": [
    "#### Respuesta: Hay dos ganadores absolutos con el mismo número de años en primer puesto: Dinamarca y Finlandia\n",
    "<br>\n",
    "<br>"
   ]
  },
  {
   "cell_type": "markdown",
   "id": "feba82e8-8962-46f7-b28d-032ec203dc6b",
   "metadata": {},
   "source": [
    "### *Pregunta 4: ¿Qué puesto de felicidad tiene el país con mayor GDP del mundo en 2020?*"
   ]
  },
  {
   "cell_type": "code",
   "execution_count": 386,
   "id": "1e51bbc8-54d3-4ab9-92a9-7188b41c1b87",
   "metadata": {},
   "outputs": [
    {
     "data": {
      "text/html": [
       "<div>\n",
       "<style scoped>\n",
       "    .dataframe tbody tr th:only-of-type {\n",
       "        vertical-align: middle;\n",
       "    }\n",
       "\n",
       "    .dataframe tbody tr th {\n",
       "        vertical-align: top;\n",
       "    }\n",
       "\n",
       "    .dataframe thead th {\n",
       "        text-align: right;\n",
       "    }\n",
       "</style>\n",
       "<table border=\"1\" class=\"dataframe\">\n",
       "  <thead>\n",
       "    <tr style=\"text-align: right;\">\n",
       "      <th></th>\n",
       "      <th>Country</th>\n",
       "      <th>Ladder</th>\n",
       "      <th>GDP</th>\n",
       "      <th>Ladder ranking</th>\n",
       "    </tr>\n",
       "  </thead>\n",
       "  <tbody>\n",
       "    <tr>\n",
       "      <th>858</th>\n",
       "      <td>Ireland</td>\n",
       "      <td>7.035</td>\n",
       "      <td>11.323</td>\n",
       "      <td>13.0</td>\n",
       "    </tr>\n",
       "  </tbody>\n",
       "</table>\n",
       "</div>"
      ],
      "text/plain": [
       "     Country  Ladder     GDP  Ladder ranking\n",
       "858  Ireland   7.035  11.323            13.0"
      ]
     },
     "execution_count": 386,
     "metadata": {},
     "output_type": "execute_result"
    }
   ],
   "source": [
    "# Filtramos por el 2020 y nos quedamos con las columnas representativas:\n",
    "puestos = df_maestro.query(\"Year == 2020\").drop([\"Year\", \"Life expectancy\", \"Continental zone\"], axis=1)\n",
    "# Ya que no nos piden el valor del Ladder, sino su ranking, añado un ranking para los Ladder en orden descendiente, para que el mayor sea el 1\n",
    "puestos[\"Ladder ranking\"] = puestos.Ladder.rank(ascending=False)\n",
    "# Una vez añadido el ranking a cada país, los ordenamos por GDP descendente\n",
    "puestos = puestos.sort_values(by=\"GDP\", ascending=False)\n",
    "# Y ahora mostramos el primero\n",
    "puestos.head(1)\n"
   ]
  },
  {
   "cell_type": "markdown",
   "id": "44dd620a-2f82-47d1-8c3d-f95100043c4f",
   "metadata": {},
   "source": [
    "#### Respuesta: Irlanda fue el país con más GDP en 2020, y su ránking de felicidad fue el nº 13\n",
    "<br>\n",
    "<br>"
   ]
  },
  {
   "cell_type": "markdown",
   "id": "b54c92e6-23cf-4db0-ae61-5a322abfc7fc",
   "metadata": {},
   "source": [
    "### *Pregunta 5: Porcentaje de variación del GDP medio mundial del 2020 al 2021*"
   ]
  },
  {
   "cell_type": "code",
   "execution_count": 388,
   "id": "8ee4b4a3-b9c8-4c24-a372-23cd66432f15",
   "metadata": {},
   "outputs": [
    {
     "data": {
      "text/plain": [
       "9.751329545454544"
      ]
     },
     "execution_count": 388,
     "metadata": {},
     "output_type": "execute_result"
    }
   ],
   "source": [
    "# \n",
    "gdp_2020 = df_maestro.query(\"Year == 2020\").GDP.mean()\n",
    "gdp_2020"
   ]
  },
  {
   "cell_type": "code",
   "execution_count": 389,
   "id": "5d4b1b85-b7a5-4e8b-870c-0e0a03d8b9b5",
   "metadata": {},
   "outputs": [
    {
     "data": {
      "text/plain": [
       "9.432208053691275"
      ]
     },
     "execution_count": 389,
     "metadata": {},
     "output_type": "execute_result"
    }
   ],
   "source": [
    "gdp_2021 = df_maestro.query(\"Year == 2021\").GDP.mean()\n",
    "gdp_2021"
   ]
  },
  {
   "cell_type": "code",
   "execution_count": 448,
   "id": "1c0cefd5-ee11-4650-adea-ea190cc53b09",
   "metadata": {},
   "outputs": [
    {
     "data": {
      "text/plain": [
       "-3.272595"
      ]
     },
     "execution_count": 448,
     "metadata": {},
     "output_type": "execute_result"
    }
   ],
   "source": [
    "variacion = round(((gdp_2021 - gdp_2020) / gdp_2020 * 100), 6)\n",
    "variacion"
   ]
  },
  {
   "cell_type": "markdown",
   "id": "ae551cad-60fa-4526-9c86-1c7a4eb4dac8",
   "metadata": {},
   "source": [
    "#### Respuesta: El GDP mundial disminuyó un 3.272595 aproximadamente.\n",
    "<br>\n",
    "<br>"
   ]
  },
  {
   "cell_type": "markdown",
   "id": "bf5efc01-40ec-4a00-a605-7f1622e60898",
   "metadata": {},
   "source": [
    "### *Pregunta 6: ¿Cuál es el país con mayor expectativa de vida en 2021, y sus resultados en 2020 y 2019?*"
   ]
  },
  {
   "cell_type": "code",
   "execution_count": 490,
   "id": "2be63d1a-476d-4a2d-9165-a24e58f62de1",
   "metadata": {},
   "outputs": [
    {
     "data": {
      "text/plain": [
       "Country            Singapore\n",
       "Year                    2021\n",
       "Life expectancy       76.953\n",
       "Name: 1653, dtype: object"
      ]
     },
     "execution_count": 490,
     "metadata": {},
     "output_type": "execute_result"
    }
   ],
   "source": [
    "life_2021_index = df_maestro.query(\"Year == 2021\")[\"Life expectancy\"].idxmax()\n",
    "life_2021_country = df_maestro.iloc[life_2021_index][[\"Country\", \"Year\", \"Life expectancy\"]]\n",
    "life_2021_country"
   ]
  },
  {
   "cell_type": "code",
   "execution_count": 493,
   "id": "caded1f7-ee2d-4039-bf02-27f36982dff2",
   "metadata": {},
   "outputs": [
    {
     "data": {
      "text/html": [
       "<div>\n",
       "<style scoped>\n",
       "    .dataframe tbody tr th:only-of-type {\n",
       "        vertical-align: middle;\n",
       "    }\n",
       "\n",
       "    .dataframe tbody tr th {\n",
       "        vertical-align: top;\n",
       "    }\n",
       "\n",
       "    .dataframe thead th {\n",
       "        text-align: right;\n",
       "    }\n",
       "</style>\n",
       "<table border=\"1\" class=\"dataframe\">\n",
       "  <thead>\n",
       "    <tr style=\"text-align: right;\">\n",
       "      <th></th>\n",
       "      <th>Country</th>\n",
       "      <th>Year</th>\n",
       "      <th>Life expectancy</th>\n",
       "    </tr>\n",
       "  </thead>\n",
       "  <tbody>\n",
       "  </tbody>\n",
       "</table>\n",
       "</div>"
      ],
      "text/plain": [
       "Empty DataFrame\n",
       "Columns: [Country, Year, Life expectancy]\n",
       "Index: []"
      ]
     },
     "execution_count": 493,
     "metadata": {},
     "output_type": "execute_result"
    }
   ],
   "source": [
    "df_maestro[df_maestro.Country == life_2021_country.Country].query(\"Year == 2020\")[[\"Country\", \"Year\", \"Life expectancy\"]]"
   ]
  },
  {
   "cell_type": "code",
   "execution_count": 494,
   "id": "38646617",
   "metadata": {},
   "outputs": [
    {
     "data": {
      "text/html": [
       "<div>\n",
       "<style scoped>\n",
       "    .dataframe tbody tr th:only-of-type {\n",
       "        vertical-align: middle;\n",
       "    }\n",
       "\n",
       "    .dataframe tbody tr th {\n",
       "        vertical-align: top;\n",
       "    }\n",
       "\n",
       "    .dataframe thead th {\n",
       "        text-align: right;\n",
       "    }\n",
       "</style>\n",
       "<table border=\"1\" class=\"dataframe\">\n",
       "  <thead>\n",
       "    <tr style=\"text-align: right;\">\n",
       "      <th></th>\n",
       "      <th>Country</th>\n",
       "      <th>Year</th>\n",
       "      <th>Life expectancy</th>\n",
       "    </tr>\n",
       "  </thead>\n",
       "  <tbody>\n",
       "    <tr>\n",
       "      <th>1652</th>\n",
       "      <td>Singapore</td>\n",
       "      <td>2019</td>\n",
       "      <td>77.1</td>\n",
       "    </tr>\n",
       "  </tbody>\n",
       "</table>\n",
       "</div>"
      ],
      "text/plain": [
       "        Country  Year  Life expectancy\n",
       "1652  Singapore  2019             77.1"
      ]
     },
     "execution_count": 494,
     "metadata": {},
     "output_type": "execute_result"
    }
   ],
   "source": [
    "df_maestro[(df_maestro.Country == life_2021_country.Country)].query(\"Year == 2019\")[[\"Country\", \"Year\", \"Life expectancy\"]]"
   ]
  },
  {
   "cell_type": "markdown",
   "id": "8a62facd-9a03-44be-9cc2-73eba7358a91",
   "metadata": {},
   "source": [
    "#### Respuesta: El país con mayor esperanza de vida en 2021 es Singapur, con 76,95 años. Para 2020 no tiene datos, y para 2019 tenía 77,1, algo mayor. El descenso podría estar causado por la epidemia del Covid en gran medida."
   ]
  },
  {
   "cell_type": "code",
   "execution_count": null,
   "id": "47c8f168-9241-43c1-bbac-c036a4d9c9ac",
   "metadata": {},
   "outputs": [],
   "source": []
  },
  {
   "cell_type": "code",
   "execution_count": null,
   "id": "c6ec8b51-4ca8-431d-b9b9-feda4ef63ba2",
   "metadata": {},
   "outputs": [],
   "source": []
  }
 ],
 "metadata": {
  "kernelspec": {
   "display_name": "Python 3 (ipykernel)",
   "language": "python",
   "name": "python3"
  },
  "language_info": {
   "codemirror_mode": {
    "name": "ipython",
    "version": 3
   },
   "file_extension": ".py",
   "mimetype": "text/x-python",
   "name": "python",
   "nbconvert_exporter": "python",
   "pygments_lexer": "ipython3",
   "version": "3.11.6"
  }
 },
 "nbformat": 4,
 "nbformat_minor": 5
}
