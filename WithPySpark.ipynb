{
 "cells": [
  {
   "cell_type": "markdown",
   "id": "e44b7de2-f801-4e33-9daf-f0457d8931e5",
   "metadata": {},
   "source": [
    "# Solución 2: Ejercicio resuelto con Spark usando PySpark"
   ]
  },
  {
   "cell_type": "markdown",
   "id": "6f3ea94b-2790-42ba-a96d-a308cd296fcb",
   "metadata": {},
   "source": [
    "## Apartado 1: Importación de las librerías necesarias"
   ]
  },
  {
   "cell_type": "code",
   "execution_count": 1,
   "id": "9bd04b02-49bf-43f9-ad86-dd329c1d72b0",
   "metadata": {},
   "outputs": [],
   "source": [
    "# pip install PyArrow"
   ]
  },
  {
   "cell_type": "code",
   "execution_count": 3,
   "id": "8e29e85c-fa23-41e9-960a-ba178e751538",
   "metadata": {},
   "outputs": [],
   "source": [
    "# Cargamos librerías y creamos una sesión de Spark\n",
    "import findspark\n",
    "findspark.init()\n",
    "import pyspark\n",
    "import pandas as pd\n",
    "from pyspark.sql import SparkSession\n",
    "spark = SparkSession.builder.appName(\"pysparkdf\").getOrCreate()\n",
    "from pyspark.sql import functions as F\n",
    "from pyspark.sql.functions import udf\n",
    "import pyspark.pandas as ps\n",
    "import pyspark.sql.types as T"
   ]
  },
  {
   "cell_type": "markdown",
   "id": "a3d23e5c-289b-439a-b7ef-b6f98de3cccb",
   "metadata": {},
   "source": [
    "<br>\n",
    "<br>"
   ]
  },
  {
   "cell_type": "markdown",
   "id": "c2854081-dd93-4460-88db-42c2253f58f2",
   "metadata": {},
   "source": [
    "## Apartado 2: Importamos los datasets a dataframes"
   ]
  },
  {
   "cell_type": "code",
   "execution_count": 4,
   "id": "e6675500-46f9-4a84-a155-dd15876daf81",
   "metadata": {},
   "outputs": [
    {
     "data": {
      "text/plain": [
       "DataFrame[Country name: string, year: string, Life Ladder: string, Log GDP per capita: string, Social support: string, Healthy life expectancy at birth: string, Freedom to make life choices: string, Generosity: string, Perceptions of corruption: string, Positive affect: string, Negative affect: string]"
      ]
     },
     "metadata": {},
     "output_type": "display_data"
    },
    {
     "name": "stdout",
     "output_type": "stream",
     "text": [
      "+------------+----+-----------+------------------+--------------+--------------------------------+----------------------------+----------+-------------------------+---------------+---------------+\n",
      "|Country name|year|Life Ladder|Log GDP per capita|Social support|Healthy life expectancy at birth|Freedom to make life choices|Generosity|Perceptions of corruption|Positive affect|Negative affect|\n",
      "+------------+----+-----------+------------------+--------------+--------------------------------+----------------------------+----------+-------------------------+---------------+---------------+\n",
      "| Afghanistan|2008|      3.724|             7.370|         0.451|                          50.800|                       0.718|     0.168|                    0.882|          0.518|          0.258|\n",
      "| Afghanistan|2009|      4.402|             7.540|         0.552|                          51.200|                       0.679|     0.190|                    0.850|          0.584|          0.237|\n",
      "| Afghanistan|2010|      4.758|             7.647|         0.539|                          51.600|                       0.600|     0.121|                    0.707|          0.618|          0.275|\n",
      "| Afghanistan|2011|      3.832|             7.620|         0.521|                          51.920|                       0.496|     0.162|                    0.731|          0.611|          0.267|\n",
      "| Afghanistan|2012|      3.783|             7.705|         0.521|                          52.240|                       0.531|     0.236|                    0.776|          0.710|          0.268|\n",
      "| Afghanistan|2013|      3.572|             7.725|         0.484|                          52.560|                       0.578|     0.061|                    0.823|          0.621|          0.273|\n",
      "| Afghanistan|2014|      3.131|             7.718|         0.526|                          52.880|                       0.509|     0.104|                    0.871|          0.532|          0.375|\n",
      "| Afghanistan|2015|      3.983|             7.702|         0.529|                          53.200|                       0.389|     0.080|                    0.881|          0.554|          0.339|\n",
      "| Afghanistan|2016|      4.220|             7.697|         0.559|                          53.000|                       0.523|     0.042|                    0.793|          0.565|          0.348|\n",
      "| Afghanistan|2017|      2.662|             7.697|         0.491|                          52.800|                       0.427|    -0.121|                    0.954|          0.496|          0.371|\n",
      "| Afghanistan|2018|      2.694|             7.692|         0.508|                          52.600|                       0.374|    -0.094|                    0.928|          0.424|          0.405|\n",
      "| Afghanistan|2019|      2.375|             7.697|         0.420|                          52.400|                       0.394|    -0.108|                    0.924|          0.351|          0.502|\n",
      "|     Albania|2007|      4.634|             9.142|         0.821|                          65.800|                       0.529|    -0.009|                    0.875|          0.553|          0.246|\n",
      "|     Albania|2009|      5.485|             9.262|         0.833|                          66.200|                       0.525|    -0.158|                    0.864|          0.640|          0.279|\n",
      "|     Albania|2010|      5.269|             9.303|         0.733|                          66.400|                       0.569|    -0.172|                    0.726|          0.648|          0.300|\n",
      "|     Albania|2011|      5.867|             9.331|         0.759|                          66.680|                       0.487|    -0.205|                    0.877|          0.628|          0.257|\n",
      "|     Albania|2012|      5.510|             9.347|         0.785|                          66.960|                       0.602|    -0.169|                    0.848|          0.607|          0.271|\n",
      "|     Albania|2013|      4.551|             9.359|         0.759|                          67.240|                       0.632|    -0.127|                    0.863|          0.634|          0.338|\n",
      "|     Albania|2014|      4.814|             9.378|         0.626|                          67.520|                       0.735|    -0.025|                    0.883|          0.685|          0.335|\n",
      "|     Albania|2015|      4.607|             9.403|         0.639|                          67.800|                       0.704|    -0.081|                    0.885|          0.688|          0.350|\n",
      "+------------+----+-----------+------------------+--------------+--------------------------------+----------------------------+----------+-------------------------+---------------+---------------+\n",
      "only showing top 20 rows\n",
      "\n"
     ]
    }
   ],
   "source": [
    "# Importamos el dataset hasta el año 2020\n",
    "df1 = spark.read.option(\"header\",\"true\").csv(\"/Users/dj/Downloads/9 Processing Big Data/PROYECTO FINAL/world-happiness-report.csv\")\n",
    "display(df1)\n",
    "df1.show()"
   ]
  },
  {
   "cell_type": "code",
   "execution_count": 5,
   "id": "539bf6bd-3d21-481a-be74-2fe72c37e966",
   "metadata": {},
   "outputs": [
    {
     "name": "stdout",
     "output_type": "stream",
     "text": [
      "root\n",
      " |-- Country name: string (nullable = true)\n",
      " |-- year: string (nullable = true)\n",
      " |-- Life Ladder: string (nullable = true)\n",
      " |-- Log GDP per capita: string (nullable = true)\n",
      " |-- Social support: string (nullable = true)\n",
      " |-- Healthy life expectancy at birth: string (nullable = true)\n",
      " |-- Freedom to make life choices: string (nullable = true)\n",
      " |-- Generosity: string (nullable = true)\n",
      " |-- Perceptions of corruption: string (nullable = true)\n",
      " |-- Positive affect: string (nullable = true)\n",
      " |-- Negative affect: string (nullable = true)\n",
      "\n"
     ]
    }
   ],
   "source": [
    "df1.printSchema()"
   ]
  },
  {
   "cell_type": "code",
   "execution_count": 6,
   "id": "4d13d5f9-6d0a-4e37-acbd-eb91393bf471",
   "metadata": {},
   "outputs": [
    {
     "data": {
      "text/plain": [
       "DataFrame[Country name: string, Regional indicator: string, Ladder score: string, Standard error of ladder score: string, upperwhisker: string, lowerwhisker: string, Logged GDP per capita: string, Social support: string, Healthy life expectancy: string, Freedom to make life choices: string, Generosity: string, Perceptions of corruption: string, Ladder score in Dystopia: string, Explained by: Log GDP per capita: string, Explained by: Social support: string, Explained by: Healthy life expectancy: string, Explained by: Freedom to make life choices: string, Explained by: Generosity: string, Explained by: Perceptions of corruption: string, Dystopia + residual: string]"
      ]
     },
     "metadata": {},
     "output_type": "display_data"
    },
    {
     "name": "stdout",
     "output_type": "stream",
     "text": [
      "+--------------+--------------------+------------+------------------------------+------------+------------+---------------------+--------------+-----------------------+----------------------------+----------+-------------------------+------------------------+--------------------------------+----------------------------+-------------------------------------+------------------------------------------+------------------------+---------------------------------------+-------------------+\n",
      "|  Country name|  Regional indicator|Ladder score|Standard error of ladder score|upperwhisker|lowerwhisker|Logged GDP per capita|Social support|Healthy life expectancy|Freedom to make life choices|Generosity|Perceptions of corruption|Ladder score in Dystopia|Explained by: Log GDP per capita|Explained by: Social support|Explained by: Healthy life expectancy|Explained by: Freedom to make life choices|Explained by: Generosity|Explained by: Perceptions of corruption|Dystopia + residual|\n",
      "+--------------+--------------------+------------+------------------------------+------------+------------+---------------------+--------------+-----------------------+----------------------------+----------+-------------------------+------------------------+--------------------------------+----------------------------+-------------------------------------+------------------------------------------+------------------------+---------------------------------------+-------------------+\n",
      "|       Finland|      Western Europe|       7.842|                         0.032|       7.904|       7.780|               10.775|         0.954|                 72.000|                       0.949|    -0.098|                    0.186|                   2.430|                           1.446|                       1.106|                                0.741|                                     0.691|                   0.124|                                  0.481|              3.253|\n",
      "|       Denmark|      Western Europe|       7.620|                         0.035|       7.687|       7.552|               10.933|         0.954|                 72.700|                       0.946|     0.030|                    0.179|                   2.430|                           1.502|                       1.108|                                0.763|                                     0.686|                   0.208|                                  0.485|              2.868|\n",
      "|   Switzerland|      Western Europe|       7.571|                         0.036|       7.643|       7.500|               11.117|         0.942|                 74.400|                       0.919|     0.025|                    0.292|                   2.430|                           1.566|                       1.079|                                0.816|                                     0.653|                   0.204|                                  0.413|              2.839|\n",
      "|       Iceland|      Western Europe|       7.554|                         0.059|       7.670|       7.438|               10.878|         0.983|                 73.000|                       0.955|     0.160|                    0.673|                   2.430|                           1.482|                       1.172|                                0.772|                                     0.698|                   0.293|                                  0.170|              2.967|\n",
      "|   Netherlands|      Western Europe|       7.464|                         0.027|       7.518|       7.410|               10.932|         0.942|                 72.400|                       0.913|     0.175|                    0.338|                   2.430|                           1.501|                       1.079|                                0.753|                                     0.647|                   0.302|                                  0.384|              2.798|\n",
      "|        Norway|      Western Europe|       7.392|                         0.035|       7.462|       7.323|               11.053|         0.954|                 73.300|                       0.960|     0.093|                    0.270|                   2.430|                           1.543|                       1.108|                                0.782|                                     0.703|                   0.249|                                  0.427|              2.580|\n",
      "|        Sweden|      Western Europe|       7.363|                         0.036|       7.433|       7.293|               10.867|         0.934|                 72.700|                       0.945|     0.086|                    0.237|                   2.430|                           1.478|                       1.062|                                0.763|                                     0.685|                   0.244|                                  0.448|              2.683|\n",
      "|    Luxembourg|      Western Europe|       7.324|                         0.037|       7.396|       7.252|               11.647|         0.908|                 72.600|                       0.907|    -0.034|                    0.386|                   2.430|                           1.751|                       1.003|                                0.760|                                     0.639|                   0.166|                                  0.353|              2.653|\n",
      "|   New Zealand|North America and...|       7.277|                         0.040|       7.355|       7.198|               10.643|         0.948|                 73.400|                       0.929|     0.134|                    0.242|                   2.430|                           1.400|                       1.094|                                0.785|                                     0.665|                   0.276|                                  0.445|              2.612|\n",
      "|       Austria|      Western Europe|       7.268|                         0.036|       7.337|       7.198|               10.906|         0.934|                 73.300|                       0.908|     0.042|                    0.481|                   2.430|                           1.492|                       1.062|                                0.782|                                     0.640|                   0.215|                                  0.292|              2.784|\n",
      "|     Australia|North America and...|       7.183|                         0.041|       7.265|       7.102|               10.796|         0.940|                 73.900|                       0.914|     0.159|                    0.442|                   2.430|                           1.453|                       1.076|                                0.801|                                     0.647|                   0.291|                                  0.317|              2.598|\n",
      "|        Israel|Middle East and N...|       7.157|                         0.034|       7.224|       7.090|               10.575|         0.939|                 73.503|                       0.800|     0.031|                    0.753|                   2.430|                           1.376|                       1.074|                                0.788|                                     0.509|                   0.208|                                  0.119|              3.083|\n",
      "|       Germany|      Western Europe|       7.155|                         0.040|       7.232|       7.077|               10.873|         0.903|                 72.500|                       0.875|     0.011|                    0.460|                   2.430|                           1.480|                       0.993|                                0.757|                                     0.600|                   0.195|                                  0.306|              2.824|\n",
      "|        Canada|North America and...|       7.103|                         0.042|       7.185|       7.021|               10.776|         0.926|                 73.800|                       0.915|     0.089|                    0.415|                   2.430|                           1.447|                       1.044|                                0.798|                                     0.648|                   0.246|                                  0.335|              2.585|\n",
      "|       Ireland|      Western Europe|       7.085|                         0.040|       7.164|       7.006|               11.342|         0.947|                 72.400|                       0.879|     0.077|                    0.363|                   2.430|                           1.644|                       1.092|                                0.753|                                     0.606|                   0.238|                                  0.367|              2.384|\n",
      "|    Costa Rica|Latin America and...|       7.069|                         0.056|       7.179|       6.960|                9.880|         0.891|                 71.400|                       0.934|    -0.126|                    0.809|                   2.430|                           1.134|                       0.966|                                0.722|                                     0.673|                   0.105|                                  0.083|              3.387|\n",
      "|United Kingdom|      Western Europe|       7.064|                         0.038|       7.138|       6.990|               10.707|         0.934|                 72.500|                       0.859|     0.233|                    0.459|                   2.430|                           1.423|                       1.062|                                0.757|                                     0.580|                   0.340|                                  0.306|              2.596|\n",
      "|Czech Republic|Central and Easte...|       6.965|                         0.049|       7.062|       6.868|               10.556|         0.947|                 70.807|                       0.858|    -0.208|                    0.868|                   2.430|                           1.370|                       1.090|                                0.703|                                     0.580|                   0.052|                                  0.046|              3.124|\n",
      "| United States|North America and...|       6.951|                         0.049|       7.047|       6.856|               11.023|         0.920|                 68.200|                       0.837|     0.098|                    0.698|                   2.430|                           1.533|                       1.030|                                0.621|                                     0.554|                   0.252|                                  0.154|              2.807|\n",
      "|       Belgium|      Western Europe|       6.834|                         0.034|       6.901|       6.767|               10.823|         0.906|                 72.199|                       0.783|    -0.153|                    0.646|                   2.430|                           1.463|                       0.998|                                0.747|                                     0.489|                   0.088|                                  0.187|              2.862|\n",
      "+--------------+--------------------+------------+------------------------------+------------+------------+---------------------+--------------+-----------------------+----------------------------+----------+-------------------------+------------------------+--------------------------------+----------------------------+-------------------------------------+------------------------------------------+------------------------+---------------------------------------+-------------------+\n",
      "only showing top 20 rows\n",
      "\n"
     ]
    }
   ],
   "source": [
    "df2 = spark.read.option(\"header\",\"true\").csv(\"/Users/dj/Downloads/9 Processing Big Data/PROYECTO FINAL/world-happiness-report-2021.csv\")\n",
    "display(df2)\n",
    "df2.show()"
   ]
  },
  {
   "cell_type": "code",
   "execution_count": 7,
   "id": "27a0aaff-8650-4de8-8cf3-5d6919efeb8c",
   "metadata": {},
   "outputs": [
    {
     "name": "stdout",
     "output_type": "stream",
     "text": [
      "root\n",
      " |-- Country name: string (nullable = true)\n",
      " |-- Regional indicator: string (nullable = true)\n",
      " |-- Ladder score: string (nullable = true)\n",
      " |-- Standard error of ladder score: string (nullable = true)\n",
      " |-- upperwhisker: string (nullable = true)\n",
      " |-- lowerwhisker: string (nullable = true)\n",
      " |-- Logged GDP per capita: string (nullable = true)\n",
      " |-- Social support: string (nullable = true)\n",
      " |-- Healthy life expectancy: string (nullable = true)\n",
      " |-- Freedom to make life choices: string (nullable = true)\n",
      " |-- Generosity: string (nullable = true)\n",
      " |-- Perceptions of corruption: string (nullable = true)\n",
      " |-- Ladder score in Dystopia: string (nullable = true)\n",
      " |-- Explained by: Log GDP per capita: string (nullable = true)\n",
      " |-- Explained by: Social support: string (nullable = true)\n",
      " |-- Explained by: Healthy life expectancy: string (nullable = true)\n",
      " |-- Explained by: Freedom to make life choices: string (nullable = true)\n",
      " |-- Explained by: Generosity: string (nullable = true)\n",
      " |-- Explained by: Perceptions of corruption: string (nullable = true)\n",
      " |-- Dystopia + residual: string (nullable = true)\n",
      "\n"
     ]
    }
   ],
   "source": [
    "df2.printSchema()"
   ]
  },
  {
   "cell_type": "markdown",
   "id": "47527b9a-13df-4a76-9922-f1c64758f9e5",
   "metadata": {},
   "source": [
    "#### Vamos a hacer un filtrado de ambos dataframes para quedarnos con las columnas que nos interesan para responder a las preguntas planteadas. Además, juntaremos los dos datasets en uno solo."
   ]
  },
  {
   "cell_type": "code",
   "execution_count": 8,
   "id": "197a8f1a-6fae-4d93-9841-c35135edf320",
   "metadata": {},
   "outputs": [
    {
     "name": "stdout",
     "output_type": "stream",
     "text": [
      "+-----------+----+------+-----+---------------+\n",
      "|    Country|Year|Ladder|  GDP|Life expectancy|\n",
      "+-----------+----+------+-----+---------------+\n",
      "|Afghanistan|2008| 3.724|7.370|         50.800|\n",
      "|Afghanistan|2009| 4.402|7.540|         51.200|\n",
      "|Afghanistan|2010| 4.758|7.647|         51.600|\n",
      "|Afghanistan|2011| 3.832|7.620|         51.920|\n",
      "|Afghanistan|2012| 3.783|7.705|         52.240|\n",
      "|Afghanistan|2013| 3.572|7.725|         52.560|\n",
      "|Afghanistan|2014| 3.131|7.718|         52.880|\n",
      "|Afghanistan|2015| 3.983|7.702|         53.200|\n",
      "|Afghanistan|2016| 4.220|7.697|         53.000|\n",
      "|Afghanistan|2017| 2.662|7.697|         52.800|\n",
      "|Afghanistan|2018| 2.694|7.692|         52.600|\n",
      "|Afghanistan|2019| 2.375|7.697|         52.400|\n",
      "|    Albania|2007| 4.634|9.142|         65.800|\n",
      "|    Albania|2009| 5.485|9.262|         66.200|\n",
      "|    Albania|2010| 5.269|9.303|         66.400|\n",
      "|    Albania|2011| 5.867|9.331|         66.680|\n",
      "|    Albania|2012| 5.510|9.347|         66.960|\n",
      "|    Albania|2013| 4.551|9.359|         67.240|\n",
      "|    Albania|2014| 4.814|9.378|         67.520|\n",
      "|    Albania|2015| 4.607|9.403|         67.800|\n",
      "+-----------+----+------+-----+---------------+\n",
      "only showing top 20 rows\n",
      "\n"
     ]
    }
   ],
   "source": [
    "# Selecciono las columnas de interés y las renombro\n",
    "df1 = df1.select(\"Country name\", \"year\", \"Life Ladder\", \"Log GDP per capita\", \"Healthy life expectancy at birth\")\n",
    "df1 = df1.withColumnsRenamed({\"Country name\": \"Country\", \"year\": \"Year\", \"Life Ladder\": \"Ladder\", \"Log GDP per capita\": \"GDP\", \"Healthy life expectancy at birth\": \"Life expectancy\"})\n",
    "df1.show()"
   ]
  },
  {
   "cell_type": "code",
   "execution_count": 9,
   "id": "b49df9d1-1d90-46ba-baa6-1db95e91bc88",
   "metadata": {},
   "outputs": [
    {
     "name": "stdout",
     "output_type": "stream",
     "text": [
      "+--------------+----+------+------+---------------+--------------------+\n",
      "|       Country|Year|Ladder|   GDP|Life Expectancy|    Continental zone|\n",
      "+--------------+----+------+------+---------------+--------------------+\n",
      "|       Finland|2021| 7.842|10.775|         72.000|      Western Europe|\n",
      "|       Denmark|2021| 7.620|10.933|         72.700|      Western Europe|\n",
      "|   Switzerland|2021| 7.571|11.117|         74.400|      Western Europe|\n",
      "|       Iceland|2021| 7.554|10.878|         73.000|      Western Europe|\n",
      "|   Netherlands|2021| 7.464|10.932|         72.400|      Western Europe|\n",
      "|        Norway|2021| 7.392|11.053|         73.300|      Western Europe|\n",
      "|        Sweden|2021| 7.363|10.867|         72.700|      Western Europe|\n",
      "|    Luxembourg|2021| 7.324|11.647|         72.600|      Western Europe|\n",
      "|   New Zealand|2021| 7.277|10.643|         73.400|North America and...|\n",
      "|       Austria|2021| 7.268|10.906|         73.300|      Western Europe|\n",
      "|     Australia|2021| 7.183|10.796|         73.900|North America and...|\n",
      "|        Israel|2021| 7.157|10.575|         73.503|Middle East and N...|\n",
      "|       Germany|2021| 7.155|10.873|         72.500|      Western Europe|\n",
      "|        Canada|2021| 7.103|10.776|         73.800|North America and...|\n",
      "|       Ireland|2021| 7.085|11.342|         72.400|      Western Europe|\n",
      "|    Costa Rica|2021| 7.069| 9.880|         71.400|Latin America and...|\n",
      "|United Kingdom|2021| 7.064|10.707|         72.500|      Western Europe|\n",
      "|Czech Republic|2021| 6.965|10.556|         70.807|Central and Easte...|\n",
      "| United States|2021| 6.951|11.023|         68.200|North America and...|\n",
      "|       Belgium|2021| 6.834|10.823|         72.199|      Western Europe|\n",
      "+--------------+----+------+------+---------------+--------------------+\n",
      "only showing top 20 rows\n",
      "\n"
     ]
    }
   ],
   "source": [
    "# Ahora selecciono las columnas de interés del df2, las renombro y le añado la columna \"Year\"\n",
    "df2 = df2.select(\"Country name\", \"Regional indicator\", \"Ladder score\", \"Logged GDP per capita\", \"Healthy life expectancy\")\n",
    "df2 = df2.withColumnsRenamed({\"Country name\": \"Country\", \"Regional indicator\": \"Continental zone\", \"Ladder score\": \"Ladder\", \"Logged GDP per capita\": \"GDP\", \"Healthy life expectancy\": \"Life expectancy\"})\n",
    "df2 = df2.withColumn(\"Year\", F.lit(2021))\n",
    "# Voy a reordenar las columnas para que coincidan con el otro df\n",
    "df2 = df2.select(\"Country\", \"Year\", \"Ladder\", \"GDP\", \"Life Expectancy\", \"Continental zone\")\n",
    "df2.show()"
   ]
  },
  {
   "cell_type": "code",
   "execution_count": 10,
   "id": "28e383b5-73e5-4a2b-b7e6-bb781e331328",
   "metadata": {},
   "outputs": [],
   "source": [
    "# Ahora hay que añadirle a df1 la columna de Zonas Continentales que le falta\n",
    "\n",
    "# Para ello primero voy a crear un diccionario con las claves de los continentes y los valores de los países correspondientes:\n",
    "# Primero agrupamos por Zona Continental las columnas que necesitamos, luego le pasamos la función para crear una lista con los valores correspondientes al índice de cada grupo\n",
    "grupos = df2.select(\"Continental zone\", \"Country\").groupBy(\"Continental zone\").agg(F.collect_list(\"Country\").alias(\"Paises\")).collect()\n",
    "#Ahora con un bucle llenamos el diccionario con la clave del continente y los valores las listas de países creadas para cada continente en el paso anterior\n",
    "diccionario = {row[\"Continental zone\"]: row[\"Paises\"] for row in grupos}"
   ]
  },
  {
   "cell_type": "code",
   "execution_count": 11,
   "id": "6a717da2-0f1a-4f57-949c-9b670d8af5ca",
   "metadata": {},
   "outputs": [
    {
     "data": {
      "text/plain": [
       "DataFrame[Country: string, Year: int, Ladder: float, GDP: float, Life expectancy: float, Continental zone: string]"
      ]
     },
     "metadata": {},
     "output_type": "display_data"
    },
    {
     "name": "stdout",
     "output_type": "stream",
     "text": [
      "+-----------+----+------+-----+---------------+--------------------+\n",
      "|    Country|Year|Ladder|  GDP|Life expectancy|    Continental zone|\n",
      "+-----------+----+------+-----+---------------+--------------------+\n",
      "|Afghanistan|2008| 3.724| 7.37|           50.8|          South Asia|\n",
      "|Afghanistan|2009| 4.402| 7.54|           51.2|          South Asia|\n",
      "|Afghanistan|2010| 4.758|7.647|           51.6|          South Asia|\n",
      "|Afghanistan|2011| 3.832| 7.62|          51.92|          South Asia|\n",
      "|Afghanistan|2012| 3.783|7.705|          52.24|          South Asia|\n",
      "|Afghanistan|2013| 3.572|7.725|          52.56|          South Asia|\n",
      "|Afghanistan|2014| 3.131|7.718|          52.88|          South Asia|\n",
      "|Afghanistan|2015| 3.983|7.702|           53.2|          South Asia|\n",
      "|Afghanistan|2016|  4.22|7.697|           53.0|          South Asia|\n",
      "|Afghanistan|2017| 2.662|7.697|           52.8|          South Asia|\n",
      "|Afghanistan|2018| 2.694|7.692|           52.6|          South Asia|\n",
      "|Afghanistan|2019| 2.375|7.697|           52.4|          South Asia|\n",
      "|Afghanistan|2021| 2.523|7.695|         52.493|          South Asia|\n",
      "|    Albania|2007| 4.634|9.142|           65.8|Central and Easte...|\n",
      "|    Albania|2009| 5.485|9.262|           66.2|Central and Easte...|\n",
      "|    Albania|2010| 5.269|9.303|           66.4|Central and Easte...|\n",
      "|    Albania|2011| 5.867|9.331|          66.68|Central and Easte...|\n",
      "|    Albania|2012|  5.51|9.347|          66.96|Central and Easte...|\n",
      "|    Albania|2013| 4.551|9.359|          67.24|Central and Easte...|\n",
      "|    Albania|2014| 4.814|9.378|          67.52|Central and Easte...|\n",
      "+-----------+----+------+-----+---------------+--------------------+\n",
      "only showing top 20 rows\n",
      "\n"
     ]
    }
   ],
   "source": [
    "#Ahora vamos a unir los dos dataframes en uno total sin las Zonas Continentales, y luego se lo añadiremos a todo desde df2\n",
    "\n",
    "# Guardo una copia modificada de df2 para poder eliminar fácilmente la columna repetida después del join\n",
    "df2_mod = df2.withColumnRenamed(\"Country\", \"Pais\")\n",
    "# Unimos df1 y df2 sin Zonas Continentales y lo ordenamos\n",
    "df_union_parcial = df1.union(df2.select(\"Country\", \"Year\", \"Ladder\", \"GDP\", \"Life expectancy\")).orderBy(\"Country\", \"Year\")\n",
    "# Hago un Left Join de df1 y df2_mod en base a las columnas de países y lo ordenamos de nuevo.\n",
    "# El Left Join conseguirá hacer una relación one-to-many hacia la izquierda, consiguiendo replicar los valores de los continentes en el país que le corresponde.\n",
    "df_maestro = df_union_parcial.join(df2_mod.select(\"Pais\", \"Continental zone\"), df1.Country == df2_mod.Pais, \"left_outer\").orderBy(\"Country\", \"Year\")\n",
    "# Ahora quitamos la columna repetida de los países\n",
    "df_maestro = df_maestro.drop(\"Pais\")\n",
    "df_maestro = df_maestro  \\\n",
    "                .withColumn(\"Year\", F.col(\"Year\").cast(T.IntegerType()))  \\\n",
    "                .withColumn(\"Ladder\", F.col(\"Ladder\").cast(T.FloatType()))  \\\n",
    "                .withColumn(\"GDP\", F.col(\"GDP\").cast(T.FloatType()))  \\\n",
    "                .withColumn(\"Life expectancy\", F.col(\"Life expectancy\").cast(T.FloatType()))\n",
    "\n",
    "display(df_maestro)\n",
    "df_maestro.show()"
   ]
  },
  {
   "cell_type": "markdown",
   "id": "265c2c24-8822-4266-bae6-bad3108125c8",
   "metadata": {},
   "source": [
    "#### Ahora ya tenemos todos los datos en un solo dataframe y uniformes.\n",
    "<br>\n",
    "<br>"
   ]
  },
  {
   "cell_type": "markdown",
   "id": "39dc58a5-a247-493f-a0ef-bf5a91b200a6",
   "metadata": {},
   "source": [
    "## Apartado 3: Empezamos a responder las preguntas del enunciado"
   ]
  },
  {
   "cell_type": "markdown",
   "id": "e3fe5676-d4e4-4d94-ab25-25b3371c7f2d",
   "metadata": {},
   "source": [
    "### *Pregunta 1: País más feliz del 2021*"
   ]
  },
  {
   "cell_type": "code",
   "execution_count": 12,
   "id": "f59f2729-f4e2-432a-af14-e32aabdb22ae",
   "metadata": {},
   "outputs": [
    {
     "name": "stdout",
     "output_type": "stream",
     "text": [
      "+-------+----+------+------+---------------+----------------+\n",
      "|Country|Year|Ladder|   GDP|Life expectancy|Continental zone|\n",
      "+-------+----+------+------+---------------+----------------+\n",
      "|Finland|2021| 7.842|10.775|           72.0|  Western Europe|\n",
      "+-------+----+------+------+---------------+----------------+\n",
      "only showing top 1 row\n",
      "\n"
     ]
    }
   ],
   "source": [
    "# Filtramos por año, ordenamos descendentemente y mostramos el primero\n",
    "df_maestro.filter(df_maestro.Year == 2021).orderBy(F.desc(\"Ladder\")).show(1)"
   ]
  },
  {
   "cell_type": "markdown",
   "id": "e639b17d-78fe-48f8-ba4a-346f0274bd3b",
   "metadata": {},
   "source": [
    "#### Respuesta: El país más feliz del 2021 fue Finlandia\n",
    "<br>\n",
    "<br>"
   ]
  },
  {
   "cell_type": "markdown",
   "id": "c36be39f-d9f4-4b2e-a4de-106fdcf35649",
   "metadata": {},
   "source": [
    "### *Pregunta 2: País más feliz por continente del 2021*"
   ]
  },
  {
   "cell_type": "code",
   "execution_count": 13,
   "id": "df53d8b3-99ea-44ef-a8c6-8562cef63720",
   "metadata": {},
   "outputs": [],
   "source": [
    "# Una de las opciones es crear un ranking basado en el Ladder segmentado por Zonas Continentales. Para ello, necesitamos una Windoe function.\n",
    "from pyspark.sql.window import Window\n",
    "# Guardamos aparte la información de partición por Zona Continental y ordenamiento descendente por claridad.\n",
    "wind = Window.partitionBy(\"Continental zone\").orderBy(F.desc(\"Ladder\"))\n",
    "# Ahora filtramos por año y creamos una columna con el ranking, añadiendo las columnas que queremos ver.\n",
    "max_2021_conts = df_maestro.filter(df_maestro.Year == 2021).withColumn(\"Ladder rank\", F.rank().over(wind)).select(\"Continental zone\", \"Country\", \"Ladder\", \"Ladder rank\").orderBy((\"Ladder rank\"))\n",
    "# Nos quedamos con los números 1 de cada partición.\n",
    "max_2021_conts = max_2021_conts.filter(F.col(\"Ladder rank\") == 1)\n"
   ]
  },
  {
   "cell_type": "markdown",
   "id": "c14214f3-0cbf-47fd-b1cd-71f40a422021",
   "metadata": {},
   "source": [
    "#### Respuesta:"
   ]
  },
  {
   "cell_type": "code",
   "execution_count": 14,
   "id": "fa6759c8-0ab1-4359-8531-8b9d36e85861",
   "metadata": {},
   "outputs": [
    {
     "name": "stdout",
     "output_type": "stream",
     "text": [
      "+--------------------+--------------------+------+-----------+\n",
      "|    Continental zone|             Country|Ladder|Ladder rank|\n",
      "+--------------------+--------------------+------+-----------+\n",
      "|Central and Easte...|      Czech Republic| 6.965|          1|\n",
      "|Commonwealth of I...|          Uzbekistan| 6.179|          1|\n",
      "|           East Asia|Taiwan Province o...| 6.584|          1|\n",
      "|Latin America and...|          Costa Rica| 7.069|          1|\n",
      "|Middle East and N...|              Israel| 7.157|          1|\n",
      "|North America and...|         New Zealand| 7.277|          1|\n",
      "|          South Asia|               Nepal| 5.269|          1|\n",
      "|      Southeast Asia|           Singapore| 6.377|          1|\n",
      "|  Sub-Saharan Africa|           Mauritius| 6.049|          1|\n",
      "|      Western Europe|             Finland| 7.842|          1|\n",
      "+--------------------+--------------------+------+-----------+\n",
      "\n"
     ]
    }
   ],
   "source": [
    "max_2021_conts.show()"
   ]
  },
  {
   "cell_type": "markdown",
   "id": "cfe0bb97-98d9-4a60-a778-9b17497ecf8d",
   "metadata": {},
   "source": [
    "# "
   ]
  },
  {
   "cell_type": "markdown",
   "id": "12a54ca9-a72e-4bd5-bfc4-dbd85e34d634",
   "metadata": {},
   "source": [
    "### *Pregunta 3: País que más veces ha sido el más feliz en la totalidad de años*"
   ]
  },
  {
   "cell_type": "code",
   "execution_count": 15,
   "id": "5de33629-8190-45d4-abc7-b9999a23b44d",
   "metadata": {},
   "outputs": [
    {
     "name": "stdout",
     "output_type": "stream",
     "text": [
      "+----+-----------+------+-------+\n",
      "|Year|    Country|Ladder|Ranking|\n",
      "+----+-----------+------+-------+\n",
      "|2005|    Denmark| 8.019|      1|\n",
      "|2006|    Finland| 7.672|      1|\n",
      "|2007|    Denmark| 7.834|      1|\n",
      "|2008|    Denmark| 7.971|      1|\n",
      "|2009|    Denmark| 7.683|      1|\n",
      "|2010|    Denmark| 7.771|      1|\n",
      "|2011|    Denmark| 7.788|      1|\n",
      "|2012|Switzerland| 7.776|      1|\n",
      "|2013|     Canada| 7.594|      1|\n",
      "|2014|    Denmark| 7.508|      1|\n",
      "|2015|     Norway| 7.603|      1|\n",
      "|2016|    Finland|  7.66|      1|\n",
      "|2017|    Finland| 7.788|      1|\n",
      "|2018|    Finland| 7.858|      1|\n",
      "|2019|    Finland|  7.78|      1|\n",
      "|2020|    Finland| 7.889|      1|\n",
      "|2021|    Finland| 7.842|      1|\n",
      "+----+-----------+------+-------+\n",
      "\n"
     ]
    }
   ],
   "source": [
    "# Creamos otro ranking particionando por año esta vez.\n",
    "wind2 = Window.partitionBy(\"Year\").orderBy(F.desc(\"Ladder\"))\n",
    "total_ranking = df_maestro.withColumn(\"Ranking\", F.rank().over(wind2)).filter(F.col(\"Ranking\") == 1).select(\"Year\",\"Country\",\"Ladder\", \"Ranking\")\n",
    "total_ranking.show()"
   ]
  },
  {
   "cell_type": "code",
   "execution_count": 16,
   "id": "6ee67c91-261e-40db-be66-6e49fbd4724a",
   "metadata": {},
   "outputs": [
    {
     "name": "stdout",
     "output_type": "stream",
     "text": [
      "+-----------+-----+\n",
      "|    Country|count|\n",
      "+-----------+-----+\n",
      "|    Finland|    7|\n",
      "|    Denmark|    7|\n",
      "|     Norway|    1|\n",
      "|Switzerland|    1|\n",
      "|     Canada|    1|\n",
      "+-----------+-----+\n",
      "\n"
     ]
    }
   ],
   "source": [
    "# Esta vez habrá repetición de valores, asi que contamos cuántas veces aparece cada país número 1\n",
    "contador = total_ranking.groupBy(\"Country\").count()\n",
    "contador.orderBy(F.desc(F.col(\"count\"))).show()"
   ]
  },
  {
   "cell_type": "markdown",
   "id": "5d3254bf-e42e-4bfc-9146-959d9dff6204",
   "metadata": {},
   "source": [
    "#### Respuesta: Hay dos ganadores absolutos con el mismo número de años en primer puesto: Dinamarca y Finlandia\n",
    "<br>\n",
    "<br>"
   ]
  },
  {
   "cell_type": "markdown",
   "id": "224b08d2-3f82-4f22-b60f-b75e6d7b82f0",
   "metadata": {},
   "source": [
    "### *Pregunta 4: ¿Qué puesto de felicidad tiene el país con mayor GDP del mundo en 2020?*"
   ]
  },
  {
   "cell_type": "code",
   "execution_count": 17,
   "id": "86975be1-c6ef-4197-9de0-3bf9e2b7d6b3",
   "metadata": {},
   "outputs": [
    {
     "name": "stderr",
     "output_type": "stream",
     "text": [
      "23/11/12 00:11:47 WARN GarbageCollectionMetrics: To enable non-built-in garbage collector(s) List(G1 Concurrent GC), users should configure it(them) to spark.eventLog.gcMetrics.youngGenerationGarbageCollectors or spark.eventLog.gcMetrics.oldGenerationGarbageCollectors\n"
     ]
    },
    {
     "name": "stdout",
     "output_type": "stream",
     "text": [
      "+-------+------+------+-------+----+\n",
      "|Country|   GDP|Ladder|Ranking|Year|\n",
      "+-------+------+------+-------+----+\n",
      "|Ireland|11.323| 7.035|     13|2020|\n",
      "+-------+------+------+-------+----+\n",
      "only showing top 1 row\n",
      "\n"
     ]
    }
   ],
   "source": [
    "# Ahora filtramos por el año 2020, hacemos ranking por Año y ordenaremos por Ladder\n",
    "wind3 = Window.partitionBy(\"Year\").orderBy(F.desc(\"Ladder\"))\n",
    "ladder_2020 = df_maestro.filter(F.col(\"Year\") == 2020).withColumn(\"Ranking\", F.rank().over(wind3)).select(\"Country\", \"GDP\", \"Ladder\", \"Ranking\", \"Year\").orderBy(F.desc(F.col(\"GDP\")))\n",
    "# Mostramos el primero del ranking\n",
    "ladder_2020.show(1)"
   ]
  },
  {
   "cell_type": "markdown",
   "id": "3faf8b02-a11c-460c-8071-78ed3d6dfa7a",
   "metadata": {},
   "source": [
    "#### Respuesta: Irlanda fue el país con más GDP en 2020, y su ránking de felicidad fue el nº 13\n",
    "<br>\n",
    "<br>"
   ]
  },
  {
   "cell_type": "markdown",
   "id": "60eacaeb-4518-452c-9b46-90882a65334e",
   "metadata": {},
   "source": [
    "### *Pregunta 5: Porcentaje de variación del GDP medio mundial del 2020 al 2021*"
   ]
  },
  {
   "cell_type": "code",
   "execution_count": 18,
   "id": "93fa64dd-cc49-4f55-af73-70d279d5b247",
   "metadata": {},
   "outputs": [],
   "source": [
    "# Calculamos los promedios de los dos años.\n",
    "avg_2020 = df_maestro.filter(F.col(\"Year\") == 2020).agg(F.avg(\"GDP\")).withColumnRenamed('avg(GDP)', \"Avg 2020\")"
   ]
  },
  {
   "cell_type": "code",
   "execution_count": 19,
   "id": "84bce939-89d3-4797-90ff-5cdf6f216402",
   "metadata": {},
   "outputs": [],
   "source": [
    "avg_2021 = df_maestro.filter(F.col(\"Year\") == 2021).agg(F.avg(\"GDP\")).withColumnRenamed('avg(GDP)', \"Avg 2021\")"
   ]
  },
  {
   "cell_type": "code",
   "execution_count": 20,
   "id": "ac402ec5-3a03-4ca6-a0e2-c8f960ce4793",
   "metadata": {},
   "outputs": [
    {
     "name": "stdout",
     "output_type": "stream",
     "text": [
      "+-----------------+-----------------+\n",
      "|         Avg 2020|         Avg 2021|\n",
      "+-----------------+-----------------+\n",
      "|9.751329579136588|9.432208032416018|\n",
      "+-----------------+-----------------+\n",
      "\n"
     ]
    }
   ],
   "source": [
    "# Ahora, ya que no se puede operar entre distintos dataframes de sparks, hay que juntarlos en un solo dataframe para operar entre columnas\n",
    "operacion = avg_2020.crossJoin(avg_2021)\n",
    "operacion.show()"
   ]
  },
  {
   "cell_type": "code",
   "execution_count": 21,
   "id": "cacbffc2-7fdd-4edd-9661-c06bcb948975",
   "metadata": {},
   "outputs": [
    {
     "name": "stdout",
     "output_type": "stream",
     "text": [
      "+-----------------+-----------------+------------------+\n",
      "|         Avg 2020|         Avg 2021|        Porcentaje|\n",
      "+-----------------+-----------------+------------------+\n",
      "|9.751329579136588|9.432208032416018|-3.272595230534974|\n",
      "+-----------------+-----------------+------------------+\n",
      "\n"
     ]
    }
   ],
   "source": [
    "# Y ahora operamos dentro del dataframe\n",
    "operacion = operacion.withColumn(\"Porcentaje\", (F.col(\"Avg 2021\") - F.col(\"Avg 2020\")) / F.col(\"Avg 2020\") * 100)\n",
    "operacion.show()"
   ]
  },
  {
   "cell_type": "markdown",
   "id": "c392a17b-5915-4b73-9e7a-5a1d8123e735",
   "metadata": {},
   "source": [
    "#### Respuesta: El GDP mundial disminuyó un 3.272595 aproximadamente.\n",
    "<br>\n",
    "<br>"
   ]
  },
  {
   "cell_type": "markdown",
   "id": "375d4e7a-2209-4b8c-9598-cf704bd9a379",
   "metadata": {},
   "source": [
    "### *Pregunta 6: ¿Cuál es el país con mayor expectativa de vida en 2021, y sus resultados en 2020 y 2019?*"
   ]
  },
  {
   "cell_type": "code",
   "execution_count": 22,
   "id": "1f7a3644-d6ff-456a-bf8f-13e441dfcdbb",
   "metadata": {},
   "outputs": [
    {
     "name": "stdout",
     "output_type": "stream",
     "text": [
      "+---------+----+---------------+------------+\n",
      "|  Country|Year|Life expectancy|Life ranking|\n",
      "+---------+----+---------------+------------+\n",
      "|Singapore|2021|         76.953|           1|\n",
      "+---------+----+---------------+------------+\n",
      "only showing top 1 row\n",
      "\n"
     ]
    }
   ],
   "source": [
    "# Haremos un ranking para la Life expectancy, y filtraremos por los tres años de uno en uno\n",
    "wind4 = Window.partitionBy(\"Year\").orderBy(F.desc(\"Life expectancy\"))\n",
    "elderlest = df_maestro.filter(F.col(\"Year\") == 2021).withColumn(\"Life ranking\", F.rank().over(wind4)).select(\"Country\", \"Year\", \"Life expectancy\", \"Life ranking\")\n",
    "elderlest.show(1)"
   ]
  },
  {
   "cell_type": "code",
   "execution_count": 51,
   "id": "26258751-f304-4bc2-8142-d993ca8494dd",
   "metadata": {},
   "outputs": [
    {
     "name": "stdout",
     "output_type": "stream",
     "text": [
      "+-------+----+---------------+\n",
      "|Country|Year|Life expectancy|\n",
      "+-------+----+---------------+\n",
      "+-------+----+---------------+\n",
      "\n"
     ]
    }
   ],
   "source": [
    "# Ahora usamos el país para filtrar\n",
    "df_maestro.filter(df_maestro.Country == \"Singapore\").filter(df_maestro.Year == 2020).select(\"Country\", \"Year\", \"Life expectancy\").show()"
   ]
  },
  {
   "cell_type": "code",
   "execution_count": 53,
   "id": "63dec174-f3d2-4958-a471-807c8d6bd291",
   "metadata": {},
   "outputs": [
    {
     "name": "stdout",
     "output_type": "stream",
     "text": [
      "+---------+----+---------------+\n",
      "|  Country|Year|Life expectancy|\n",
      "+---------+----+---------------+\n",
      "|Singapore|2019|           77.1|\n",
      "+---------+----+---------------+\n",
      "\n"
     ]
    }
   ],
   "source": [
    "df_maestro.filter(df_maestro.Country == \"Singapore\").filter(df_maestro.Year == 2019).select(\"Country\", \"Year\", \"Life expectancy\").show()"
   ]
  },
  {
   "cell_type": "markdown",
   "id": "07462ffd-3d43-45f9-aeb7-c6ffaf74b74c",
   "metadata": {},
   "source": [
    "#### Respuesta: El país con mayor esperanza de vida en 2021 es Singapur, con 76,95 años. Para 2020 no tiene datos, y para 2019 tenía 77,1, algo mayor. El descenso podría estar causado por la epidemia del Covid en gran medida."
   ]
  },
  {
   "cell_type": "code",
   "execution_count": null,
   "id": "20f4ef34-6b06-4e1e-a864-addcfd7b3ef5",
   "metadata": {},
   "outputs": [],
   "source": []
  }
 ],
 "metadata": {
  "kernelspec": {
   "display_name": "Python 3 (ipykernel)",
   "language": "python",
   "name": "python3"
  },
  "language_info": {
   "codemirror_mode": {
    "name": "ipython",
    "version": 3
   },
   "file_extension": ".py",
   "mimetype": "text/x-python",
   "name": "python",
   "nbconvert_exporter": "python",
   "pygments_lexer": "ipython3",
   "version": "3.11.6"
  }
 },
 "nbformat": 4,
 "nbformat_minor": 5
}
